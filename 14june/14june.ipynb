{
 "cells": [
  {
   "cell_type": "code",
   "execution_count": 1,
   "metadata": {},
   "outputs": [
    {
     "name": "stdout",
     "output_type": "stream",
     "text": [
      "komal\n"
     ]
    }
   ],
   "source": [
    "# example of Print and Input\n",
    "\n",
    "name =input(\"Enter your name :\")\n",
    "print(name)"
   ]
  },
  {
   "cell_type": "code",
   "execution_count": 3,
   "metadata": {},
   "outputs": [
    {
     "name": "stdout",
     "output_type": "stream",
     "text": [
      "14\n"
     ]
    }
   ],
   "source": [
    "#type casting\n",
    "num1=int(input(\"Enter no1:\"))\n",
    "num2 = int(input(\"Enter no2:\"))\n",
    "ans = num1 + num2\n",
    "print(ans)"
   ]
  },
  {
   "cell_type": "code",
   "execution_count": 4,
   "metadata": {},
   "outputs": [
    {
     "name": "stdout",
     "output_type": "stream",
     "text": [
      "Square of no : 9\n"
     ]
    }
   ],
   "source": [
    "#Square value\n",
    "number=int(input(\"Enter no.1:\"))\n",
    "S=number*number\n",
    "print(\"Square of no :\",S)"
   ]
  },
  {
   "cell_type": "code",
   "execution_count": 5,
   "metadata": {},
   "outputs": [
    {
     "name": "stdout",
     "output_type": "stream",
     "text": [
      "Cube value of no.: 27\n"
     ]
    }
   ],
   "source": [
    "#Cube Value\n",
    "num1=int(input(\"Enter no.1:\"))\n",
    "C=num1*num1*num1\n",
    "print(\"Cube value of no.:\",C)"
   ]
  },
  {
   "cell_type": "code",
   "execution_count": 7,
   "metadata": {},
   "outputs": [
    {
     "name": "stdout",
     "output_type": "stream",
     "text": [
      "month of the enter year is: 24\n"
     ]
    }
   ],
   "source": [
    "#Accept year from user and convert into month\n",
    "year = int(input(\"enter year:\"))\n",
    "month = year*12\n",
    "print(\"month of the enter year is:\",month)"
   ]
  },
  {
   "cell_type": "code",
   "execution_count": 9,
   "metadata": {},
   "outputs": [
    {
     "name": "stdout",
     "output_type": "stream",
     "text": [
      "month of the enter year is: 2.0\n"
     ]
    }
   ],
   "source": [
    "#Accept month from user and convert into year\n",
    "month = int(input(\"enter year:\"))\n",
    "year = month/12\n",
    "print(\"month of the enter year is:\",year)\n"
   ]
  },
  {
   "cell_type": "code",
   "execution_count": 10,
   "metadata": {},
   "outputs": [
    {
     "name": "stdout",
     "output_type": "stream",
     "text": [
      "Positive Number\n"
     ]
    }
   ],
   "source": [
    "#Example of if statement\n",
    "\n",
    "num1=int(input(\"Enter one no.:\"))\n",
    "if num1>0:\n",
    "    print(\"Positive Number\")\n",
    "else:\n",
    "    print(\"Negative Number\")\n"
   ]
  },
  {
   "cell_type": "code",
   "execution_count": 12,
   "metadata": {},
   "outputs": [
    {
     "name": "stdout",
     "output_type": "stream",
     "text": [
      "User is Eligible For Votting\n"
     ]
    }
   ],
   "source": [
    "#task for check the age of user it is eligible for votting or not\n",
    "age=int(input(\"Enter ur Age:\"))\n",
    "if age>18:\n",
    "    print(\"User is Eligible For Votting\")\n",
    "else:\n",
    "    print(\"User is  Not Eligible For Votting\")"
   ]
  },
  {
   "cell_type": "code",
   "execution_count": 13,
   "metadata": {},
   "outputs": [
    {
     "name": "stdout",
     "output_type": "stream",
     "text": [
      "Number is Even\n"
     ]
    }
   ],
   "source": [
    "#Check given no is EVEN or ODD\n",
    "num1=int(input(\"Enter one no.:\"))\n",
    "if num1%2==0:\n",
    "    print(\"Number is Even\")\n",
    "else:\n",
    "    print(\"Number is Odd\")\n",
    "    "
   ]
  },
  {
   "cell_type": "code",
   "execution_count": 14,
   "metadata": {},
   "outputs": [
    {
     "name": "stdout",
     "output_type": "stream",
     "text": [
      "No. of Months= 12.166666666666666\n"
     ]
    }
   ],
   "source": [
    "#Accept days from user and convert it into number of months\n",
    "days=int(input(\"Enter no  days:\"))\n",
    "month=days/30\n",
    "print(\"No. of Months=\",month)"
   ]
  },
  {
   "cell_type": "code",
   "execution_count": 15,
   "metadata": {},
   "outputs": [
    {
     "name": "stdout",
     "output_type": "stream",
     "text": [
      "No. of Minutes= 120\n"
     ]
    }
   ],
   "source": [
    "#Accept hours from user and convert it into number of minuts\n",
    "hours=int(input(\"Enter no hours:\"))\n",
    "min=hours*60\n",
    "print(\"No. of Minutes=\",min)"
   ]
  },
  {
   "cell_type": "markdown",
   "metadata": {},
   "source": [
    "Simple Interest S=PRN/100\n",
    "  \n",
    "        P=Principle Amount\n",
    "        R=Rate of Interest\n",
    "        N=Terms\n",
    "    "
   ]
  },
  {
   "cell_type": "code",
   "execution_count": 17,
   "metadata": {},
   "outputs": [
    {
     "name": "stdout",
     "output_type": "stream",
     "text": [
      "Simple Interest is : 40.0\n"
     ]
    }
   ],
   "source": [
    "#Find simple interest\n",
    "P=int(input(\"Enter Principla Ammount:\"))\n",
    "R=int(input(\"Enter Rate of Interest:\"))\n",
    "N=int(input(\"Enter No of Year:\"))\n",
    "SI =(P*R*N)/100\n",
    "print(\"Simple Interest is :\",SI)"
   ]
  },
  {
   "cell_type": "code",
   "execution_count": 18,
   "metadata": {},
   "outputs": [
    {
     "name": "stdout",
     "output_type": "stream",
     "text": [
      "Second:= 7200 \n",
      "hour:= 2.0\n"
     ]
    }
   ],
   "source": [
    "#Accept Minutes and convert into Second and Hour\n",
    "\n",
    "min=int(input(\"Enter the No. of minutes:\"))\n",
    "sec=min*60\n",
    "hr=min/60\n",
    "print(\"Second:=\",sec,\"\\nhour:=\",hr)"
   ]
  },
  {
   "cell_type": "code",
   "execution_count": 20,
   "metadata": {},
   "outputs": [
    {
     "name": "stdout",
     "output_type": "stream",
     "text": [
      "Student is Pass:\n"
     ]
    }
   ],
   "source": [
    "#Accept Marks from user and check student is pass or fail\n",
    "mark=int(input(\"Enter the marks out of 100:\"))\n",
    "if mark>=33:\n",
    "    print(\"Student is Pass\")\n",
    "else:\n",
    "    print(\"Student is Fail\")"
   ]
  },
  {
   "cell_type": "code",
   "execution_count": 21,
   "metadata": {},
   "outputs": [
    {
     "name": "stdout",
     "output_type": "stream",
     "text": [
      "Area of Circle is: 50.24\n"
     ]
    }
   ],
   "source": [
    "#find the area of circle \n",
    "R=int(input(\"Enter the radius of circle:\"))\n",
    "pi=3.14\n",
    "A=pi*R*R\n",
    "print(\"Area of Circle is:\",A)"
   ]
  },
  {
   "cell_type": "code",
   "execution_count": null,
   "metadata": {},
   "outputs": [],
   "source": []
  }
 ],
 "metadata": {
  "kernelspec": {
   "display_name": "Python 3.10.4 64-bit",
   "language": "python",
   "name": "python3"
  },
  "language_info": {
   "codemirror_mode": {
    "name": "ipython",
    "version": 3
   },
   "file_extension": ".py",
   "mimetype": "text/x-python",
   "name": "python",
   "nbconvert_exporter": "python",
   "pygments_lexer": "ipython3",
   "version": "3.10.4"
  },
  "orig_nbformat": 4,
  "vscode": {
   "interpreter": {
    "hash": "369f2c481f4da34e4445cda3fffd2e751bd1c4d706f27375911949ba6bb62e1c"
   }
  }
 },
 "nbformat": 4,
 "nbformat_minor": 2
}
