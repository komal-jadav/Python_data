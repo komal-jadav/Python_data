{
 "cells": [
  {
   "cell_type": "code",
   "execution_count": 1,
   "metadata": {},
   "outputs": [
    {
     "name": "stdout",
     "output_type": "stream",
     "text": [
      "12\n",
      "5\n",
      "17\n"
     ]
    }
   ],
   "source": [
    "#fuction with parameter and without return type\n",
    "def sum(num1,num2):\n",
    "    print(num1)\n",
    "    print(num2)\n",
    "    ans=num1+num2\n",
    "    print(ans)\n",
    "num1=int(input(\"Enter no 1:\"))\n",
    "num2=int(input(\"Enter no 2:\"))\n",
    "sum(num1,num2)"
   ]
  },
  {
   "cell_type": "code",
   "execution_count": 2,
   "metadata": {},
   "outputs": [
    {
     "name": "stdout",
     "output_type": "stream",
     "text": [
      "17\n"
     ]
    }
   ],
   "source": [
    "#Function without parameter and function with return type\n",
    "def sum():\n",
    "    num1=int(input(\"Enter no 1:\"))\n",
    "    num2=int(input(\"Enter no 2:\"))\n",
    "    ans=num1+num2\n",
    "    return ans\n",
    "\n",
    "Result=sum()\n",
    "print(Result)"
   ]
  },
  {
   "cell_type": "code",
   "execution_count": 5,
   "metadata": {},
   "outputs": [
    {
     "name": "stdout",
     "output_type": "stream",
     "text": [
      "\n",
      "                    Menu\n",
      "                Press 1 for Addition\n",
      "                Press 2 for Multiplication\n",
      "\n",
      "         \n",
      "6\n"
     ]
    }
   ],
   "source": [
    "#Function with parameter and function with return type\n",
    "def menu():\n",
    "    data=\"\"\"\n",
    "                    Menu\n",
    "                Press 1 for Addition\n",
    "                Press 2 for Multiplication\n",
    "\n",
    "         \"\"\"\n",
    "    print(data)\n",
    "    choice=int(input(\"Enter your choice:\"))\n",
    "    num1=int(input(\"Enter no1 :\"))\n",
    "    num2=int(input(\"Enter no2 :\"))\n",
    "    if choice==1:\n",
    "        print(addition(num1,num2))\n",
    "    elif choice==2:\n",
    "        print(multiplication(num1,num2))\n",
    "    else:\n",
    "        print(\"Invalid Input\")\n",
    "def addition(n1,n2):\n",
    "    ans=n1+n2\n",
    "    return ans\n",
    "def multiplication(n1,n2):\n",
    "    ans=n1*n2\n",
    "    return ans\n",
    "menu()"
   ]
  },
  {
   "cell_type": "code",
   "execution_count": 7,
   "metadata": {},
   "outputs": [
    {
     "name": "stdout",
     "output_type": "stream",
     "text": [
      "\n",
      "                    Menu\n",
      "                Press 1 for increment\n",
      "                Press 2 for decrement\n",
      "          \n",
      "\n",
      "                    Menu\n",
      "                Press 1 for increment\n",
      "                Press 2 for decrement\n",
      "          \n",
      "\n",
      "                    Menu\n",
      "                Press 1 for increment\n",
      "                Press 2 for decrement\n",
      "          \n",
      "Score: 50\n"
     ]
    }
   ],
   "source": [
    "#Global Variable\n",
    "Score=0\n",
    "def increment():\n",
    "    global Score\n",
    "    Score+=50\n",
    "def decrement():\n",
    "    global Score\n",
    "    Score-=50\n",
    "def menu():\n",
    "    data =\"\"\"\n",
    "                    Menu\n",
    "                Press 1 for increment\n",
    "                Press 2 for decrement\n",
    "          \"\"\"\n",
    "    print(data)\n",
    "    choice=int(input(\"Enter Your choice:\"))\n",
    "    if choice==1:\n",
    "        increment()\n",
    "    elif choice==2:\n",
    "        decrement()\n",
    "        print(\"Score:\",Score)\n",
    "Status=True\n",
    "while Status:\n",
    "    menu()\n",
    "    userchoice=input(\"do you want continue pree 'y'for yes and 'n' for no\")\n",
    "    if userchoice=='n':\n",
    "        Status=False\n",
    "\n"
   ]
  },
  {
   "cell_type": "code",
   "execution_count": 10,
   "metadata": {},
   "outputs": [
    {
     "name": "stdout",
     "output_type": "stream",
     "text": [
      "F_NAME= Komal\n",
      "L_NAME= Solanki\n",
      "SUBJECT= python\n"
     ]
    }
   ],
   "source": [
    "#Function with default value\n",
    "\n",
    "def registration(fname,lname,subject=\"python\"):\n",
    "    print(\"F_NAME=\",fname)\n",
    "    print(\"L_NAME=\",lname)\n",
    "    print(\"SUBJECT=\",subject)\n",
    "registration(\"Komal\",\"Solanki\")\n"
   ]
  },
  {
   "cell_type": "code",
   "execution_count": 12,
   "metadata": {},
   "outputs": [
    {
     "name": "stdout",
     "output_type": "stream",
     "text": [
      "28\n"
     ]
    }
   ],
   "source": [
    "# (*args) example\n",
    "def my_fun(*args):\n",
    "    sum=0\n",
    "    for i in args:\n",
    "        sum+=i\n",
    "    print(sum)\n",
    "my_fun(2,5,6,7,8)"
   ]
  },
  {
   "cell_type": "code",
   "execution_count": 13,
   "metadata": {},
   "outputs": [
    {
     "name": "stdout",
     "output_type": "stream",
     "text": [
      "name=komal\n",
      "subject=python\n"
     ]
    }
   ],
   "source": [
    "# (**kwargs) example\n",
    "def student(**kwargs):\n",
    "    for k,v in kwargs.items():\n",
    "        print(f\"{k}={v}\")\n",
    "student(name=\"komal\",subject=\"python\")"
   ]
  }
 ],
 "metadata": {
  "kernelspec": {
   "display_name": "Python 3.10.4 64-bit",
   "language": "python",
   "name": "python3"
  },
  "language_info": {
   "codemirror_mode": {
    "name": "ipython",
    "version": 3
   },
   "file_extension": ".py",
   "mimetype": "text/x-python",
   "name": "python",
   "nbconvert_exporter": "python",
   "pygments_lexer": "ipython3",
   "version": "3.10.4"
  },
  "orig_nbformat": 4,
  "vscode": {
   "interpreter": {
    "hash": "369f2c481f4da34e4445cda3fffd2e751bd1c4d706f27375911949ba6bb62e1c"
   }
  }
 },
 "nbformat": 4,
 "nbformat_minor": 2
}
