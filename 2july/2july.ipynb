{
 "cells": [
  {
   "cell_type": "code",
   "execution_count": 11,
   "metadata": {},
   "outputs": [
    {
     "name": "stdout",
     "output_type": "stream",
     "text": [
      "{'name': 'Komal', 'Subject': 'python', 'Framework': 'Django'}\n",
      "name=Komal\n",
      "Subject=python\n",
      "Framework=Django\n"
     ]
    }
   ],
   "source": [
    "#Example of dictionary\n",
    "Student={\n",
    "          \"name\":\"Komal\",\n",
    "          \"Subject\":\"python\",\n",
    "          \"Framework\":\"Django\"\n",
    "        }\n",
    "print(Student)\n",
    "for k,v in Student.items():\n",
    "    print(f\"{k}={v}\")"
   ]
  },
  {
   "cell_type": "code",
   "execution_count": 7,
   "metadata": {},
   "outputs": [
    {
     "name": "stdout",
     "output_type": "stream",
     "text": [
      "{'name': 'Komal', 'Subject': 'python', 'Framework': 'Django'}\n",
      "name\n",
      "Subject\n",
      "Framework\n"
     ]
    }
   ],
   "source": [
    "# Example for dislplay key \n",
    "Student={\n",
    "          \"name\":\"Komal\",\n",
    "          \"Subject\":\"python\",\n",
    "          \"Framework\":\"Django\"\n",
    "        }\n",
    "print(Student)\n",
    "for k in Student.keys():\n",
    "    print(k)"
   ]
  },
  {
   "cell_type": "code",
   "execution_count": 8,
   "metadata": {},
   "outputs": [
    {
     "name": "stdout",
     "output_type": "stream",
     "text": [
      "{'name': 'Komal', 'Subject': 'python', 'Framework': 'Django'}\n",
      "Komal\n",
      "python\n",
      "Django\n"
     ]
    }
   ],
   "source": [
    "#Example for display value\n",
    "Student={\n",
    "          \"name\":\"Komal\",\n",
    "          \"Subject\":\"python\",\n",
    "          \"Framework\":\"Django\"\n",
    "        }\n",
    "print(Student)\n",
    "for v in Student.values():\n",
    "    print(v)\n"
   ]
  },
  {
   "cell_type": "code",
   "execution_count": 9,
   "metadata": {},
   "outputs": [
    {
     "name": "stdout",
     "output_type": "stream",
     "text": [
      "{'name': 'Komal', 'Subject': 'python', 'Framework': 'Django'}\n",
      "Komal\n"
     ]
    }
   ],
   "source": [
    "# fetch value using key\n",
    "Student={\n",
    "          \"name\":\"Komal\",\n",
    "          \"Subject\":\"python\",\n",
    "          \"Framework\":\"Django\"\n",
    "        }\n",
    "print(Student)\n",
    "\n",
    "print(Student[\"name\"])\n"
   ]
  },
  {
   "cell_type": "code",
   "execution_count": 14,
   "metadata": {},
   "outputs": [
    {
     "name": "stdout",
     "output_type": "stream",
     "text": [
      "{'name': 'Komal', 'Subject': 'python', 'Framework': 'Django'}\n",
      "python\n"
     ]
    }
   ],
   "source": [
    "#Dynamically fetching value\n",
    "Student={\n",
    "          \"name\":\"Komal\",\n",
    "          \"Subject\":\"python\",\n",
    "          \"Framework\":\"Django\"\n",
    "        }\n",
    "print(Student)\n",
    "key=input(\"Enter key from dictionary\")\n",
    "print(Student[key])"
   ]
  },
  {
   "cell_type": "code",
   "execution_count": 17,
   "metadata": {},
   "outputs": [
    {
     "name": "stdout",
     "output_type": "stream",
     "text": [
      "Who is our prime minister of india?\n",
      "Right Answer\n"
     ]
    }
   ],
   "source": [
    "#nested Dictionary\n",
    "quiz={ 1:{\n",
    "             \"Que\":\"Who is our prime minister of india?\",\n",
    "             \"Ans\":\"Narendra modi\"\n",
    "        },\n",
    "      2:{\n",
    "             \"Que\":\"Most popular programing language?\",\n",
    "             \"Ans\":\"Python\"\n",
    "       },\n",
    "    }\n",
    "print(quiz[1][\"Que\"])\n",
    "ans=input(\"Enter Ans:\")\n",
    "if ans==quiz[1][\"Ans\"]:\n",
    "    print(\"Right Answer\")\n"
   ]
  },
  {
   "cell_type": "code",
   "execution_count": 21,
   "metadata": {},
   "outputs": [
    {
     "name": "stdout",
     "output_type": "stream",
     "text": [
      "Question Who is our prime minister of india?\n",
      "Right Answer\n",
      "Question Most popular programing language?\n",
      "Right Answer\n"
     ]
    }
   ],
   "source": [
    "#use for loop to display all que and answer\n",
    "\n",
    "quiz={ 1:{\n",
    "             \"Que\":\"Who is our prime minister of india?\",\n",
    "             \"Ans\":\"Narendra modi\"\n",
    "        },\n",
    "      2:{\n",
    "             \"Que\":\"Most popular programing language?\",\n",
    "             \"Ans\":\"Python\"\n",
    "       },\n",
    "    }\n",
    "\n",
    "for i in range(1,len(quiz.keys())+1):\n",
    "    print(\"Question\",quiz[i][\"Que\"])\n",
    "    ans=input(\"Enter Ans:\")\n",
    "    if ans==quiz[i][\"Ans\"]:\n",
    "        print(\"Right Answer\")\n",
    "    else:\n",
    "        print(\"Wrong Answer\")"
   ]
  },
  {
   "cell_type": "code",
   "execution_count": null,
   "metadata": {},
   "outputs": [],
   "source": []
  }
 ],
 "metadata": {
  "kernelspec": {
   "display_name": "Python 3.10.4 64-bit",
   "language": "python",
   "name": "python3"
  },
  "language_info": {
   "codemirror_mode": {
    "name": "ipython",
    "version": 3
   },
   "file_extension": ".py",
   "mimetype": "text/x-python",
   "name": "python",
   "nbconvert_exporter": "python",
   "pygments_lexer": "ipython3",
   "version": "3.10.4"
  },
  "orig_nbformat": 4,
  "vscode": {
   "interpreter": {
    "hash": "369f2c481f4da34e4445cda3fffd2e751bd1c4d706f27375911949ba6bb62e1c"
   }
  }
 },
 "nbformat": 4,
 "nbformat_minor": 2
}
