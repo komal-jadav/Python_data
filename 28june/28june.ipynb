{
 "cells": [
  {
   "cell_type": "code",
   "execution_count": 2,
   "metadata": {},
   "outputs": [
    {
     "name": "stdout",
     "output_type": "stream",
     "text": [
      "[12, 26, 17, 34, 81]\n",
      "[12, 26, 17, 34]\n",
      "[26, 17, 34]\n",
      "[]\n"
     ]
    },
    {
     "ename": "NameError",
     "evalue": "name 'l1' is not defined",
     "output_type": "error",
     "traceback": [
      "\u001b[1;31m---------------------------------------------------------------------------\u001b[0m",
      "\u001b[1;31mNameError\u001b[0m                                 Traceback (most recent call last)",
      "\u001b[1;32mc:\\Users\\SONY\\Documents\\GitHub\\Python_data\\28june\\28june.ipynb Cell 1\u001b[0m in \u001b[0;36m<cell line: 16>\u001b[1;34m()\u001b[0m\n\u001b[0;32m     <a href='vscode-notebook-cell:/c%3A/Users/SONY/Documents/GitHub/Python_data/28june/28june.ipynb#ch0000000?line=12'>13</a>\u001b[0m \u001b[39mprint\u001b[39m(l1)\n\u001b[0;32m     <a href='vscode-notebook-cell:/c%3A/Users/SONY/Documents/GitHub/Python_data/28june/28june.ipynb#ch0000000?line=14'>15</a>\u001b[0m \u001b[39mdel\u001b[39;00m l1      \u001b[39m#it show error becoz del delete list from memory\u001b[39;00m\n\u001b[1;32m---> <a href='vscode-notebook-cell:/c%3A/Users/SONY/Documents/GitHub/Python_data/28june/28june.ipynb#ch0000000?line=15'>16</a>\u001b[0m \u001b[39mprint\u001b[39m(l1)\n",
      "\u001b[1;31mNameError\u001b[0m: name 'l1' is not defined"
     ]
    }
   ],
   "source": [
    "#example of remove element from list\n",
    "l1=[12,26,17,34,55,81]\n",
    "l1.remove(55)\n",
    "print(l1)\n",
    "\n",
    "l1.pop()\n",
    "print(l1)\n",
    "\n",
    "l1.pop(0)\n",
    "print(l1)\n",
    "\n",
    "l1.clear()\n",
    "print(l1)\n",
    "\n",
    "del l1      #it show error becoz del delete list from memory\n",
    "print(l1)"
   ]
  },
  {
   "cell_type": "code",
   "execution_count": 3,
   "metadata": {},
   "outputs": [
    {
     "name": "stdout",
     "output_type": "stream",
     "text": [
      "[12, 26, 17, 34, 55, 81, 13, 27, 18, 35, 56, 82]\n"
     ]
    }
   ],
   "source": [
    "#Example of Extend()\n",
    "l1=[12,26,17,34,55,81]\n",
    "l2=[13,27,18,35,56,82]\n",
    "l1.extend(l2)\n",
    "print(l1)"
   ]
  },
  {
   "cell_type": "code",
   "execution_count": 4,
   "metadata": {},
   "outputs": [
    {
     "name": "stdout",
     "output_type": "stream",
     "text": [
      "[12, 26, 17, 34, 55, 81, 13, 27, 18, 35, 56, 82]\n"
     ]
    }
   ],
   "source": [
    "#Merge two list\n",
    "l1=[12,26,17,34,55,81]\n",
    "l2=[13,27,18,35,56,82]\n",
    "l3= l1+l2\n",
    "print(l3)"
   ]
  },
  {
   "cell_type": "code",
   "execution_count": 5,
   "metadata": {},
   "outputs": [
    {
     "name": "stdout",
     "output_type": "stream",
     "text": [
      "[13, 27, 18, 35, 56, 82]\n"
     ]
    }
   ],
   "source": [
    "# exaple of list constructor\n",
    "l1=[12,26,17,34,55,81]\n",
    "l2=[13,27,18,35,56,82]\n",
    "l1=list(l2)                 #l1 store all element of l2\n",
    "print(l1)"
   ]
  },
  {
   "cell_type": "code",
   "execution_count": 6,
   "metadata": {},
   "outputs": [
    {
     "name": "stdout",
     "output_type": "stream",
     "text": [
      "[12, 26, 17, 34, 55, 81]\n",
      "12\n",
      "3\n",
      "[17, 34]\n"
     ]
    }
   ],
   "source": [
    "#index to value and value to index\n",
    "l1=[12,26,17,34,55,81]\n",
    "print(l1)\n",
    "\n",
    "print(l1[0])   #index to value\n",
    "\n",
    "print(l1.index(34))  #value to index\n",
    "\n",
    "print(l1[2:4])"
   ]
  },
  {
   "cell_type": "code",
   "execution_count": 7,
   "metadata": {},
   "outputs": [
    {
     "name": "stdout",
     "output_type": "stream",
     "text": [
      "[81, 55, 34, 17, 26, 12]\n"
     ]
    }
   ],
   "source": [
    "# Example of reverse list\n",
    "l1=[12,26,17,34,55,81]\n",
    "l1.reverse()\n",
    "print(l1)"
   ]
  },
  {
   "cell_type": "code",
   "execution_count": 9,
   "metadata": {},
   "outputs": [
    {
     "name": "stdout",
     "output_type": "stream",
     "text": [
      "[12, 17, 26, 34, 55, 81]\n"
     ]
    }
   ],
   "source": [
    "#Example of Accending order list\n",
    "l1=[12,26,17,34,81,55]\n",
    "l1.sort()\n",
    "print(l1)"
   ]
  },
  {
   "cell_type": "code",
   "execution_count": 10,
   "metadata": {},
   "outputs": [
    {
     "name": "stdout",
     "output_type": "stream",
     "text": [
      "[81, 55, 34, 26, 17, 12]\n"
     ]
    }
   ],
   "source": [
    "#Example of decending order list\n",
    "l1=[12,26,17,34,81,55]\n",
    "l1.sort(reverse=True)\n",
    "print(l1)"
   ]
  },
  {
   "cell_type": "code",
   "execution_count": 11,
   "metadata": {},
   "outputs": [
    {
     "name": "stdout",
     "output_type": "stream",
     "text": [
      "225\n",
      "81\n",
      "12\n",
      "6\n"
     ]
    }
   ],
   "source": [
    "# Example of Sum,max,min, len\n",
    "\n",
    "l1=[12,26,17,34,55,81]\n",
    "print(sum(l1))\n",
    "print(max(l1))\n",
    "print(min(l1))\n",
    "print(len(l1))"
   ]
  },
  {
   "cell_type": "code",
   "execution_count": 12,
   "metadata": {},
   "outputs": [
    {
     "name": "stdout",
     "output_type": "stream",
     "text": [
      "['mango', 'Cherry', 'Apple', 'kiwi']\n"
     ]
    }
   ],
   "source": [
    "#Example for replace element from list\n",
    "l1=[\"mango\",\"orange\",\"Apple\",\"kiwi\"]\n",
    "l1[1]=\"Cherry\"\n",
    "print(l1)"
   ]
  },
  {
   "cell_type": "code",
   "execution_count": 13,
   "metadata": {},
   "outputs": [
    {
     "name": "stdout",
     "output_type": "stream",
     "text": [
      "[12, 4, 6, 34, 55, 81]\n"
     ]
    }
   ],
   "source": [
    "#Example for replace multiple element from list\n",
    "l1=[12,26,17,34,55,81]\n",
    "l1[1:3]=[4,6]\n",
    "print(l1)\n"
   ]
  },
  {
   "cell_type": "code",
   "execution_count": 14,
   "metadata": {},
   "outputs": [
    {
     "name": "stdout",
     "output_type": "stream",
     "text": [
      "[12, 5, 7, 17, 34, 55, 81]\n"
     ]
    }
   ],
   "source": [
    "#Another Example\n",
    "\n",
    "l1=[12,26,17,34,55,81]\n",
    "l1[1:2]=[5,7]\n",
    "print(l1)\n"
   ]
  },
  {
   "cell_type": "code",
   "execution_count": 15,
   "metadata": {},
   "outputs": [
    {
     "name": "stdout",
     "output_type": "stream",
     "text": [
      "[12, 26, 'Watermelon', 17, 34, 55, 81]\n"
     ]
    }
   ],
   "source": [
    "#Example of insert element in list without replace\n",
    "\n",
    "l1=[12,26,17,34,55,81]\n",
    "l1.insert(2,\"Watermelon\")\n",
    "print(l1)"
   ]
  }
 ],
 "metadata": {
  "kernelspec": {
   "display_name": "Python 3.10.4 64-bit",
   "language": "python",
   "name": "python3"
  },
  "language_info": {
   "codemirror_mode": {
    "name": "ipython",
    "version": 3
   },
   "file_extension": ".py",
   "mimetype": "text/x-python",
   "name": "python",
   "nbconvert_exporter": "python",
   "pygments_lexer": "ipython3",
   "version": "3.10.4"
  },
  "orig_nbformat": 4,
  "vscode": {
   "interpreter": {
    "hash": "369f2c481f4da34e4445cda3fffd2e751bd1c4d706f27375911949ba6bb62e1c"
   }
  }
 },
 "nbformat": 4,
 "nbformat_minor": 2
}
