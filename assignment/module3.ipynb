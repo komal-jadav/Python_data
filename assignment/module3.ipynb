{
 "cells": [
  {
   "cell_type": "code",
   "execution_count": 1,
   "metadata": {},
   "outputs": [
    {
     "name": "stdout",
     "output_type": "stream",
     "text": [
      "[12, 34, 56, 77, 81]\n",
      "[81, 77, 56, 34, 12]\n"
     ]
    }
   ],
   "source": [
    "\n",
    "#  What is List? How will you reverse a list?\n",
    "\n",
    "l1=[12,34,56,77,81]\n",
    "print(l1)\n",
    "l1.reverse()\n",
    "print(l1)\n"
   ]
  },
  {
   "cell_type": "code",
   "execution_count": 2,
   "metadata": {},
   "outputs": [
    {
     "name": "stdout",
     "output_type": "stream",
     "text": [
      "[12, 34, 56, 77]\n"
     ]
    }
   ],
   "source": [
    "# How will you remove last object from a list?\n",
    "\n",
    "l1=[12,34,56,77,81]\n",
    "l1.pop()\n",
    "print(l1)"
   ]
  },
  {
   "cell_type": "code",
   "execution_count": 7,
   "metadata": {},
   "outputs": [
    {
     "name": "stdout",
     "output_type": "stream",
     "text": [
      "25\n"
     ]
    }
   ],
   "source": [
    "# Suppose list1 is [2, 33, 222, 14, and 25], what is list1 [-1]?\n",
    "\n",
    "list1 = [2, 33, 222, 14,25]\n",
    "print(list1[-1])"
   ]
  },
  {
   "cell_type": "code",
   "execution_count": 10,
   "metadata": {},
   "outputs": [
    {
     "name": "stdout",
     "output_type": "stream",
     "text": [
      "[5]\n",
      "[5, 12, 15]\n"
     ]
    }
   ],
   "source": [
    "# Differentiate between append () and extend () methods?\n",
    "\n",
    "l1=[]\n",
    "l1.append(5)\n",
    "print(l1)\n",
    "l2=[12,15]\n",
    "l1.extend(l2)\n",
    "print(l1)"
   ]
  },
  {
   "cell_type": "code",
   "execution_count": 11,
   "metadata": {},
   "outputs": [
    {
     "name": "stdout",
     "output_type": "stream",
     "text": [
      "260\n",
      "81\n",
      "12\n"
     ]
    }
   ],
   "source": [
    "# Write a Python function to get the largest number, smallest num and sum of all from a list.\n",
    "l1=[12,34,56,77,81]\n",
    "print(sum(l1))\n",
    "print(max(l1))\n",
    "print(min(l1))"
   ]
  },
  {
   "cell_type": "code",
   "execution_count": 12,
   "metadata": {},
   "outputs": [
    {
     "name": "stdout",
     "output_type": "stream",
     "text": [
      "The lists l1 and l3 are the same\n",
      "The lists l1 and l2 are not the same\n"
     ]
    }
   ],
   "source": [
    "# How will you compare two lists?\n",
    "\n",
    "l1 = [10, 20, 30, 40, 50] \n",
    "l2 = [10, 20, 30, 50, 40, 70] \n",
    "l3 = [50, 10, 30, 20, 40] \n",
    " \n",
    "l1.sort() \n",
    "l2.sort() \n",
    "l3.sort() \n",
    " \n",
    "if l1 == l3: \n",
    "    print (\"The lists l1 and l3 are the same\") \n",
    "else: \n",
    "    print (\"The lists l1 and l3 are not the same\") \n",
    " \n",
    " \n",
    "if l1 == l2: \n",
    "    print (\"The lists l1 and l2 are the same\") \n",
    "else: \n",
    "    print (\"The lists l1 and l2 are not the same\") "
   ]
  },
  {
   "cell_type": "code",
   "execution_count": 14,
   "metadata": {},
   "outputs": [
    {
     "name": "stdout",
     "output_type": "stream",
     "text": [
      "aba\n",
      "xyzx\n"
     ]
    }
   ],
   "source": [
    "# Write a Python program to count the number of strings where the string length is 2 or more and the first and last character are same from a given list of strings.\n",
    "\n",
    "string=\"hii,hello,aba,xyzx\"\n",
    "\n",
    "string.split(\",\")\n",
    "count=0\n",
    "for i in string.split(\",\"):\n",
    "    if len(i)>2 and  i[0]==i[-1]:\n",
    "        count+=1\n",
    "        print(i)"
   ]
  },
  {
   "cell_type": "code",
   "execution_count": 4,
   "metadata": {},
   "outputs": [
    {
     "name": "stdout",
     "output_type": "stream",
     "text": [
      "[12, 34, 56, 77, 81, 12, 56]\n",
      "[12, 34, 56, 77, 81]\n"
     ]
    }
   ],
   "source": [
    "# Write a Python program to remove duplicates from a list.\n",
    "l1=[12,34,56,77,81,12,56]\n",
    "print(l1)\n",
    "l2=[]\n",
    "\n",
    "for i in l1:\n",
    "    if i not in l2:\n",
    "        l2.append(i)\n",
    "print(l2)"
   ]
  },
  {
   "cell_type": "code",
   "execution_count": 6,
   "metadata": {},
   "outputs": [
    {
     "name": "stdout",
     "output_type": "stream",
     "text": [
      "k,12,32\n",
      "list is not empty\n"
     ]
    }
   ],
   "source": [
    "# Write a Python program to check a list is empty or not.\n",
    "\n",
    "l1=input(\"enter list\")\n",
    "print(l1)\n",
    "if len(l1)>0:\n",
    "    print(\"list is not empty\")\n",
    "else:\n",
    "    print(\"list is empty\")\n",
    "    "
   ]
  },
  {
   "cell_type": "code",
   "execution_count": 16,
   "metadata": {},
   "outputs": [
    {
     "name": "stdout",
     "output_type": "stream",
     "text": [
      "true\n"
     ]
    }
   ],
   "source": [
    "# Write a Python function that takes two lists and returns true if they have at least one common member.\n",
    "\n",
    "l1=[12,34,22,56,77]\n",
    "l2=[39,40,34]\n",
    "for i in l1:\n",
    "    for j in l2:\n",
    "        if i == j:\n",
    "            print(\"true\")\n"
   ]
  },
  {
   "cell_type": "code",
   "execution_count": 17,
   "metadata": {},
   "outputs": [
    {
     "name": "stdout",
     "output_type": "stream",
     "text": [
      "[1, 4, 9, 16, 25]\n",
      "[256, 289, 324, 361, 400]\n"
     ]
    }
   ],
   "source": [
    "# Write a Python program to generate and print a list of first and last 5 elements where the values are square of numbers between 1 and 30.\n",
    "l = list()\n",
    "for i in range(1,21):\n",
    "\tl.append(i**2)\n",
    "print(l[:5])\n",
    "print(l[-5:])"
   ]
  },
  {
   "cell_type": "code",
   "execution_count": 3,
   "metadata": {},
   "outputs": [
    {
     "name": "stdout",
     "output_type": "stream",
     "text": [
      "[12, 34, 56, 77, 81, 12, 56]\n",
      "[12, 34, 56, 77, 81]\n"
     ]
    }
   ],
   "source": [
    "# Write a Python function that takes a list and returns a new list with unique elements of the first list.\n",
    "\n",
    "l1=[12,34,56,77,81,12,56]\n",
    "print(l1)\n",
    "l2=[]\n",
    "\n",
    "for i in l1:\n",
    "    if i not in l2:\n",
    "        l2.append(i)\n",
    "print(l2)"
   ]
  },
  {
   "cell_type": "code",
   "execution_count": 1,
   "metadata": {},
   "outputs": [
    {
     "name": "stdout",
     "output_type": "stream",
     "text": [
      "pyton\n"
     ]
    }
   ],
   "source": [
    "# Write a Python program to convert a list of characters into a string.\n",
    "\n",
    "s = ['p', 'y', 't', 'o','n']\n",
    "str1 = ''.join(s)\n",
    "print(str1)"
   ]
  },
  {
   "cell_type": "code",
   "execution_count": 4,
   "metadata": {},
   "outputs": [
    {
     "name": "stdout",
     "output_type": "stream",
     "text": [
      "Green\n"
     ]
    }
   ],
   "source": [
    "# Write a Python program to select an item randomly from a list.\n",
    "\n",
    "import random\n",
    "color_list = ['Red', 'Blue', 'Green', 'White', 'Black']\n",
    "print(random.choice(color_list))"
   ]
  },
  {
   "cell_type": "code",
   "execution_count": 5,
   "metadata": {},
   "outputs": [
    {
     "name": "stdout",
     "output_type": "stream",
     "text": [
      "12\n"
     ]
    }
   ],
   "source": [
    "# Write a Python program to find the second smallest number in a list.\n",
    "\n",
    "l1=[12,34,77,56,81,5]\n",
    "l1.sort()\n",
    "print(l1[1])"
   ]
  },
  {
   "cell_type": "code",
   "execution_count": 6,
   "metadata": {},
   "outputs": [
    {
     "name": "stdout",
     "output_type": "stream",
     "text": [
      "[12, 34, 56, 77, 81, 12, 56]\n",
      "[12, 34, 56, 77, 81]\n"
     ]
    }
   ],
   "source": [
    "# Write a Python program to get unique values from a list\n",
    "\n",
    "l1=[12,34,56,77,81,12,56]\n",
    "print(l1)\n",
    "l2=[]\n",
    "\n",
    "for i in l1:\n",
    "    if i not in l2:\n",
    "        l2.append(i)\n",
    "print(l2)"
   ]
  },
  {
   "cell_type": "code",
   "execution_count": 7,
   "metadata": {},
   "outputs": [
    {
     "name": "stdout",
     "output_type": "stream",
     "text": [
      "List is present\n"
     ]
    }
   ],
   "source": [
    "# Write a Python program to check whether a list contains a sub list\n",
    "\n",
    "list = [[1,5,7,], [2, 3, 4], [3, 6, 9], [4, 8, 12]] \n",
    "check_list = [2,3,4]\n",
    "if check_list in list: \n",
    "\tprint(\"List is present\") \n",
    "else: \n",
    "\tprint(\"List is not present\") "
   ]
  },
  {
   "cell_type": "code",
   "execution_count": 8,
   "metadata": {},
   "outputs": [
    {
     "name": "stdout",
     "output_type": "stream",
     "text": [
      "('good morning', 'hii', 'how are you')\n",
      "('good noon', 'hello', 'mem')\n",
      "('good evening', 'bye', 'sir')\n"
     ]
    }
   ],
   "source": [
    "# Write a Python program to split a list into different variables.\n",
    "\n",
    "greetings=[(\"good morning\",\"hii\",\"how are you\"),(\"good noon\",\"hello\",\"mem\"),(\"good evening\",\"bye\",\"sir\")]\n",
    "var1,var2,var3=greetings\n",
    "print(var1)\n",
    "print(var2)\n",
    "print(var3)"
   ]
  },
  {
   "cell_type": "markdown",
   "metadata": {},
   "source": [
    "# What is tuple? Difference between list and tuple.\n",
    "List:- \n",
    "    list is a collection data-type which is contain similar and disimilar data elements\n",
    "    list is presented by[]\n",
    "    list is mutable \n",
    "\n",
    "tuple:-\n",
    "    tupple is collection data type which is contain similar and disimiar data elements but tupple which is represented by()\n",
    "    and tuple is imutable\n",
    "\n"
   ]
  },
  {
   "cell_type": "code",
   "execution_count": 1,
   "metadata": {},
   "outputs": [
    {
     "name": "stdout",
     "output_type": "stream",
     "text": [
      "[12, 32, 55, 65, 77]\n",
      "(12, 23, 34, 12, 34)\n"
     ]
    }
   ],
   "source": [
    "# What is tuple? Difference between list and tuple.\n",
    "\n",
    "l1=[12,32,55,65,77]\n",
    "print(l1)\n",
    "t1=(12, 23, 34,12,34)\n",
    "print(t1)"
   ]
  },
  {
   "cell_type": "code",
   "execution_count": 2,
   "metadata": {},
   "outputs": [
    {
     "name": "stdout",
     "output_type": "stream",
     "text": [
      "(12, 34, 'Android', 'Python')\n"
     ]
    }
   ],
   "source": [
    "# Write a Python program to create a tuple with different data types.\n",
    "\n",
    "t=(12,34,\"Android\",\"Python\")\n",
    "print(t)"
   ]
  },
  {
   "cell_type": "code",
   "execution_count": 3,
   "metadata": {},
   "outputs": [
    {
     "name": "stdout",
     "output_type": "stream",
     "text": [
      "(12, 23, 34, 12, 34)\n"
     ]
    }
   ],
   "source": [
    "# Write a Python program to create a tuple with numbers.\n",
    "\n",
    "t1=(12, 23, 34,12,34)\n",
    "print(t1)"
   ]
  },
  {
   "cell_type": "code",
   "execution_count": 1,
   "metadata": {},
   "outputs": [
    {
     "name": "stdout",
     "output_type": "stream",
     "text": [
      "python\n"
     ]
    }
   ],
   "source": [
    "# Write a Python program to convert a tuple to a string.\n",
    "\n",
    "\n",
    "t1=('p','y','t','h','o','n')\n",
    "str=''.join(t1)\n",
    "print(str)"
   ]
  },
  {
   "cell_type": "code",
   "execution_count": 2,
   "metadata": {},
   "outputs": [
    {
     "name": "stdout",
     "output_type": "stream",
     "text": [
      "True\n",
      "True\n",
      "False\n",
      "False\n"
     ]
    }
   ],
   "source": [
    "# Write a Python program to check whether an element exists within a tuple.\n",
    "\n",
    "t1=(\"p\",2,\"y\",3,\"t\",4,\"h\",5,\"o\",\"n\")\n",
    "print(\"t\"in t1)\n",
    "print(2 in t1)\n",
    "print(\"r\" in t1)\n",
    "print(10 in t1)"
   ]
  },
  {
   "cell_type": "code",
   "execution_count": 8,
   "metadata": {},
   "outputs": [
    {
     "name": "stdout",
     "output_type": "stream",
     "text": [
      "6\n"
     ]
    }
   ],
   "source": [
    "# Write a Python program to find the length of a tuple.\n",
    "t1=(12,34,23,77,81,36)\n",
    "print(len(t1))"
   ]
  },
  {
   "cell_type": "code",
   "execution_count": 2,
   "metadata": {},
   "outputs": [
    {
     "name": "stdout",
     "output_type": "stream",
     "text": [
      "('Apple', 22, 'kiwi', 45.3, (1, 2, 3, 4), 16, [10, 20, 30])\n",
      "whole tuple length: 7\n",
      "Nested tuple length: 4\n",
      "Nested list length: 3\n"
     ]
    }
   ],
   "source": [
    "#another example of above defination\n",
    "\n",
    "mt1=('Apple',22,'kiwi',45.3,(1,2,3,4),16,[10,20,30])\n",
    "print(mt1)\n",
    "mt1_length=len(mt1)\n",
    "print(\"whole tuple length:\",mt1_length)\n",
    "nested_tuple_length=len(mt1[4]) \n",
    "print(\"Nested tuple length:\",nested_tuple_length)\n",
    "nested_list_lengt=len(mt1[6])\n",
    "print(\"Nested list length:\",nested_list_lengt)\n"
   ]
  },
  {
   "cell_type": "code",
   "execution_count": 9,
   "metadata": {},
   "outputs": [
    {
     "name": "stdout",
     "output_type": "stream",
     "text": [
      "[12, 36, 32, 55, 77, 81]\n",
      "(12, 36, 32, 55, 77, 81)\n"
     ]
    }
   ],
   "source": [
    "# Write a Python program to convert a list to a tuple.\n",
    "\n",
    "l1=[12,36,32,55,77,81]\n",
    "print(l1)\n",
    "t1=tuple(l1)\n",
    "print(t1)"
   ]
  },
  {
   "cell_type": "code",
   "execution_count": 2,
   "metadata": {},
   "outputs": [
    {
     "name": "stdout",
     "output_type": "stream",
     "text": [
      "(5, 10, 15, 20, 25)\n",
      "(25, 20, 15, 10, 5)\n"
     ]
    }
   ],
   "source": [
    "# Write a Python program to reverse a tuple.\n",
    "\n",
    "t3=(5,10,15,20,25)\n",
    "print(t3)\n",
    "t2 = reversed(t3)\n",
    "print(tuple(t2))"
   ]
  },
  {
   "cell_type": "code",
   "execution_count": 4,
   "metadata": {},
   "outputs": [
    {
     "name": "stdout",
     "output_type": "stream",
     "text": [
      "[(10, 20, 50), (20, 30, 50), (50, 60, 50), (80, 90, 50)]\n"
     ]
    }
   ],
   "source": [
    "# Write a Python program to replace last value of tuples in a list.\n",
    "\n",
    "l=[(10,20,30),(20,30,40),(50,60,70),(80,90,20)]\n",
    "print([t[:-1]+(50,)for t in l])\n"
   ]
  },
  {
   "cell_type": "code",
   "execution_count": null,
   "metadata": {},
   "outputs": [],
   "source": [
    "# Write a Python program to find the repeated items of a tuple.\n",
    "\n",
    "t1=(1,23,45,65,45,22,56,77,84,77,77,23,56,23)\n",
    "print(t1)\n",
    "for i in t1:\n",
    "    if t1.count(i) > 1:\n",
    "        print(i)\n",
    "count = t1.count(77)\n",
    "count1 = t1.count(56)\n",
    "print(count)\n",
    "print(count1)"
   ]
  },
  {
   "cell_type": "code",
   "execution_count": 17,
   "metadata": {},
   "outputs": [
    {
     "name": "stdout",
     "output_type": "stream",
     "text": [
      "[('',), ('p', 'y'), ('p', 'y', 't'), 'o', 'n']\n"
     ]
    }
   ],
   "source": [
    "# Write a Python program to remove an empty tuple(s) from a list of tuples.\n",
    "\n",
    "L = [(), (), ('',), ('p', 'y'), ('p', 'y', 't'), ('o'),('n')]\n",
    "L = [t for t in L if t]\n",
    "print(L)\n"
   ]
  },
  {
   "cell_type": "code",
   "execution_count": 18,
   "metadata": {},
   "outputs": [
    {
     "name": "stdout",
     "output_type": "stream",
     "text": [
      "[(1, 3, 8), (2, 4, 9)]\n"
     ]
    }
   ],
   "source": [
    "# Write a Python program to unzip a list of tuples into individual lists.\n",
    "l = [(1,2), (3,4), (8,9)]\n",
    "print(list(zip(*l)))"
   ]
  },
  {
   "cell_type": "code",
   "execution_count": 2,
   "metadata": {},
   "outputs": [
    {
     "name": "stdout",
     "output_type": "stream",
     "text": [
      "{1: 1, 2: 2, 3: 3, 4: 4, 5: 5}\n"
     ]
    }
   ],
   "source": [
    "# Write a Python program to convert a list of tuples into a dictionary.\n",
    "\n",
    "list1= [(1, 1), (2, 2), (3, 3), (4, 4), (5, 5)]\n",
    "\n",
    "# converting to dict\n",
    "d2= dict(list1)\n",
    "\n",
    "# printing the result\n",
    "print(d2)"
   ]
  },
  {
   "cell_type": "code",
   "execution_count": 3,
   "metadata": {},
   "outputs": [
    {
     "name": "stdout",
     "output_type": "stream",
     "text": [
      "((11, 'eleven'), (21, 'mike'), (19, 'dustin'), (46, 'caleb'))\n",
      "{11: 'eleven', 21: 'mike', 19: 'dustin', 46: 'caleb'}\n"
     ]
    }
   ],
   "source": [
    "# How will you create a dictionary using tuples in python?\n",
    "\n",
    "tup = ((11, \"eleven\"), (21, \"mike\"), (19, \"dustin\"), (46, \"caleb\"))\n",
    "print(tup)\n",
    "\n",
    "dct = dict(tup)\n",
    "print(dct)"
   ]
  },
  {
   "cell_type": "code",
   "execution_count": 12,
   "metadata": {},
   "outputs": [
    {
     "name": "stdout",
     "output_type": "stream",
     "text": [
      "original dictionary: {1: 2, 3: 4, 4: 3, 2: 1, 0: 0, 5: 3}\n",
      "ascending order :  [(0, 0), (1, 2), (2, 1), (3, 4), (4, 3), (5, 3)]\n",
      "descending order :  {5: 3, 4: 3, 3: 4, 2: 1, 1: 2, 0: 0}\n"
     ]
    }
   ],
   "source": [
    "# Write a Python script to sort (ascending and descending) a dictionary by value\n",
    "import operator\n",
    "d = {1: 2, 3: 4, 4: 3, 2: 1, 0: 0,5:3}\n",
    "print('original dictionary:',d)\n",
    "s= sorted(d.items())\n",
    "\n",
    "print('ascending order : ',s)\n",
    "\n",
    "s1= dict( sorted(d.items(),reverse=True))\n",
    "\n",
    "print('descending order : ',s1)"
   ]
  },
  {
   "cell_type": "code",
   "execution_count": 27,
   "metadata": {},
   "outputs": [
    {
     "name": "stdout",
     "output_type": "stream",
     "text": [
      "{1: 10, 2: 20, 3: 30, 4: 40, 5: 50, 6: 60}\n"
     ]
    }
   ],
   "source": [
    "# Write a Python script to concatenate following dictionaries to create a new one.\n",
    "dic1={1:10, 2:20}\n",
    "dic2={3:30, 4:40}\n",
    "dic3={5:50,6:60}\n",
    "dic4 = {}\n",
    "for d in (dic1, dic2, dic3): \n",
    "    dic4.update(d)\n",
    "print(dic4)"
   ]
  },
  {
   "cell_type": "code",
   "execution_count": 29,
   "metadata": {},
   "outputs": [
    {
     "name": "stdout",
     "output_type": "stream",
     "text": [
      "Key is present in the dictionary\n"
     ]
    }
   ],
   "source": [
    "# Write a Python script to check if a given key already exists in a dictionary.\n",
    "\n",
    "d = {1: 10, 2: 20, 3: 30, 4: 40, 5: 50, 6: 60}\n",
    "x=int(input(\"enter one key:\"))\n",
    "if x in d:\n",
    "    print('Key is present in the dictionary')\n",
    "else:\n",
    "    print('Key is not present in the dictionary')\n"
   ]
  },
  {
   "cell_type": "code",
   "execution_count": 30,
   "metadata": {},
   "outputs": [
    {
     "name": "stdout",
     "output_type": "stream",
     "text": [
      "1 a\n",
      "2 b\n",
      "3 c\n"
     ]
    }
   ],
   "source": [
    "# How Do You Traverse Through A Dictionary Object In Python?\n",
    "\n",
    "D1 = {1:'a', 2:'b', 3:'c'} \n",
    "for k in D1.keys():\n",
    "   print (k, D1[k])\n"
   ]
  },
  {
   "cell_type": "code",
   "execution_count": 2,
   "metadata": {},
   "outputs": [
    {
     "name": "stdout",
     "output_type": "stream",
     "text": [
      "Does not exist\n"
     ]
    }
   ],
   "source": [
    "# How Do You Check The Presence Of A Key In A Dictionary?\n",
    "D1 = {\"a\": 1, \"b\":2, \"c\":3}\n",
    "key= input(\"Enter the Key name:\")\n",
    "if key in D1:\n",
    "    print(\"Exists\")\n",
    "else:\n",
    "    print(\"Does not exist\")"
   ]
  },
  {
   "cell_type": "code",
   "execution_count": 4,
   "metadata": {},
   "outputs": [
    {
     "name": "stdout",
     "output_type": "stream",
     "text": [
      "{1: 1, 2: 2, 3: 3, 4: 4, 5: 5, 6: 6, 7: 7, 8: 8, 9: 9, 10: 10, 11: 11, 12: 12, 13: 13, 14: 14, 15: 15}\n"
     ]
    }
   ],
   "source": [
    "# Write a Python script to print a dictionary where the keys are numbers between 1 and 15.\n",
    "\n",
    "D1={}\n",
    "for i in range(1,16):\n",
    "    D1[i]=i\n",
    "print(D1)"
   ]
  },
  {
   "cell_type": "code",
   "execution_count": 9,
   "metadata": {},
   "outputs": [
    {
     "name": "stdout",
     "output_type": "stream",
     "text": [
      "All keys are not present\n"
     ]
    }
   ],
   "source": [
    "# Write a Python program to check multiple keys exists in a dictionary\n",
    "Adict = {\"Mon\":3, \"Tue\":11,\"Wed\":6,\"Thu\":9}\n",
    "\n",
    "key1 =input(\"Enter one key\")\n",
    "key2 =input(\"Enter second key\")\n",
    "\n",
    "\n",
    "\n",
    "\n",
    "# Use comaprision\n",
    "if(Adict.keys()) >= {key1,key2}:\n",
    "   print(\"All keys are present\")\n",
    "else:\n",
    "   print(\"All keys are not present\")\n"
   ]
  },
  {
   "cell_type": "code",
   "execution_count": 11,
   "metadata": {},
   "outputs": [
    {
     "name": "stdout",
     "output_type": "stream",
     "text": [
      "{'Fruit_name': 'Apple', 'Qty': 20, 'Price': 30}\n",
      "{'Mobile_name': 'vivo', 'MQty': 100, 'MPrice': 20000}\n",
      "After merging {'Fruit_name': 'Apple', 'Qty': 20, 'Price': 30, 'Mobile_name': 'vivo', 'MQty': 100, 'MPrice': 20000}\n"
     ]
    }
   ],
   "source": [
    "# Write a Python script to merge two Python dictionaries\n",
    "D1={}\n",
    "D2={}\n",
    "friut_name = input(\"Enter friut name :\")\n",
    "qty = int(input(\"enter qty\"))\n",
    "price = int(input(\"enter price\"))\n",
    "D1['Fruit_name']=friut_name\n",
    "D1['Qty']=qty\n",
    "D1['Price']=price\n",
    "print(D1)\n",
    "mobile_name = input(\"Enter mobile name :\")\n",
    "mqty = int(input(\"enter qty\"))\n",
    "mprice = int(input(\"enter price\"))\n",
    "D2['Mobile_name']=mobile_name\n",
    "D2['MQty']=mqty\n",
    "D2['MPrice']=mprice\n",
    "print(D2)\n",
    "\n",
    "D1.update(D2)\n",
    "print(\"After merging\",D1)\n",
    "\n"
   ]
  },
  {
   "cell_type": "code",
   "execution_count": 13,
   "metadata": {},
   "outputs": [
    {
     "name": "stdout",
     "output_type": "stream",
     "text": [
      "['apple', 'mango', 'orange', 'watermelon', 'kiwi']\n",
      "[20, 30, 40, 50, 60]\n",
      "{'apple': 20, 'mango': 30, 'orange': 40, 'watermelon': 50, 'kiwi': 60}\n"
     ]
    }
   ],
   "source": [
    "# Write a Python program to map two lists into a dictionary\n",
    "Fruits=[]\n",
    "for i in range(1,6):\n",
    "    name =input(\"Enter Fruit name:\")\n",
    "    Fruits.append(name)\n",
    "print(Fruits)\n",
    "Price =[]\n",
    "for i in range(1,6):\n",
    "    price =int(input(\"Enter price:\"))\n",
    "    Price.append(price)\n",
    "print(Price)\n",
    "Fruit_dit =dict(zip(Fruits,Price))\n",
    "print(Fruit_dit)"
   ]
  },
  {
   "cell_type": "code",
   "execution_count": 18,
   "metadata": {},
   "outputs": [
    {
     "name": "stdout",
     "output_type": "stream",
     "text": [
      "{'a': 400, 'b': 700, 'c': 300, 'd': 400}\n"
     ]
    }
   ],
   "source": [
    "# Write a Python program to combine two dictionary adding values for common keys.\n",
    "d1 = {'a': 100, 'b': 500, 'c':300}\n",
    "d2 = {'a': 300, 'b': 200,'d':400}\n",
    "\n",
    "for key in d2:\n",
    "    if key in d1:\n",
    "        d2[key] = d2[key] + d1[key]\n",
    "    else:\n",
    "        pass\n",
    "         \n",
    "#print(d2)\n",
    "d1.update(d2)\n",
    "print(d1)"
   ]
  },
  {
   "cell_type": "code",
   "execution_count": 19,
   "metadata": {},
   "outputs": [
    {
     "name": "stdout",
     "output_type": "stream",
     "text": [
      "['Vishnu', 'Ram', 'sita']\n"
     ]
    }
   ],
   "source": [
    "# Write a Python program to print all unique values in a dictionary.\n",
    "dict = {'511':'Vishnu','512':'Vishnu','513':'Ram','514':'Ram','515':'sita'}\n",
    "list =[] # create empty list\n",
    "for val in dict.values(): \n",
    "  if val in list: \n",
    "    continue \n",
    "  else:\n",
    "    list.append(val)\n",
    "\n",
    "print (list)\n",
    "\n"
   ]
  },
  {
   "cell_type": "code",
   "execution_count": 25,
   "metadata": {},
   "outputs": [
    {
     "name": "stdout",
     "output_type": "stream",
     "text": [
      "('apple', 'mango', 'kiwi')\n",
      "('20', '30', '40')\n",
      "(('apple', '20'), ('mango', '30'), ('kiwi', '40'))\n"
     ]
    }
   ],
   "source": [
    "# Why Do You Use the Zip () Method in Python?\n",
    "#join two tupples two gether\n",
    "l1=[]\n",
    "l2=[]\n",
    "t1=()\n",
    "t2=()\n",
    "for i in range(1,4):\n",
    "    l1_name=input(\"enter name:\")\n",
    "    l1.append(l1_name)\n",
    "    t1=tuple(l1)\n",
    "print(t1)\n",
    "\n",
    "for i in range(1,4):\n",
    "    l2_name=input(\"enter price:\")\n",
    "    l2.append(l2_name)\n",
    "    t2=tuple(l2)\n",
    "print(t2)\n",
    "\n",
    "\n",
    "\n",
    "x = zip(t1, t2)\n",
    "print(tuple(x))\n"
   ]
  },
  {
   "cell_type": "code",
   "execution_count": 26,
   "metadata": {},
   "outputs": [
    {
     "name": "stdout",
     "output_type": "stream",
     "text": [
      "ac\n",
      "ad\n",
      "bc\n",
      "bd\n"
     ]
    }
   ],
   "source": [
    "# Write a Python program to create and display all combinations of letters, selecting each letter from a different key in a dictionary.\n",
    "d ={'1':['a','b'], '2':['c','d']}\n",
    "for x in d['1']:\n",
    "    for y in d['2']:\n",
    "        print(x + y)"
   ]
  },
  {
   "cell_type": "code",
   "execution_count": 10,
   "metadata": {},
   "outputs": [
    {
     "name": "stdout",
     "output_type": "stream",
     "text": [
      "[(4, 'Peter'), (5, 'Chris'), (6, 'Ruffalo')]\n"
     ]
    }
   ],
   "source": [
    "# Write a Python program to find the highest 3 values in a dictionary\n",
    "\n",
    "names = {1:'Alice' ,2:'John' ,4:'Peter' ,3:'Andrew' ,6:'Ruffalo' ,5:'Chris' }  \n",
    "d1=sorted(names.items())\n",
    "l=list(d1)\n",
    "print(l[-3:])\n",
    "\n"
   ]
  },
  {
   "cell_type": "code",
   "execution_count": 1,
   "metadata": {},
   "outputs": [
    {
     "name": "stdout",
     "output_type": "stream",
     "text": [
      "Counter({'item1': 1150, 'item2': 300})\n"
     ]
    }
   ],
   "source": [
    "# Write a Python program to combine values in python list of dictionaries. Sample data: [{'item': 'item1', 'amount': 400}, {'item': 'item2', 'amount': 300},\n",
    "# {'item': 'item1', 'amount': 750}]\n",
    "# Expected Output: Counter ({'item1': 1150, 'item2': 300})\n",
    "from collections import Counter\n",
    "item_list = [{'item': 'item1', 'amount': 400}, {'item': 'item2', 'amount': 300}, {'item': 'item1', 'amount': 750}]\n",
    "result = Counter()\n",
    "for d in item_list:\n",
    "    result[d['item']] += d['amount']\n",
    "print(result) \n",
    "\n"
   ]
  },
  {
   "cell_type": "code",
   "execution_count": 2,
   "metadata": {},
   "outputs": [
    {
     "name": "stdout",
     "output_type": "stream",
     "text": [
      "k : 1\n",
      "o : 1\n",
      "m : 1\n",
      "a : 2\n",
      "l : 2\n",
      "d : 1\n",
      "h : 1\n",
      "v : 1\n"
     ]
    }
   ],
   "source": [
    "# Write a Python program to create a dictionary from a string.\n",
    "#o Note: Track the count of the letters from the string. Sample string: 'w3resource'\n",
    "#o Expected output: {'3': 1,’s’: 1, 'r': 2, 'u': 1, 'w': 1, 'c': 1, 'e': 2, 'o': 1}\n",
    "\n",
    "st = input(\"Enter a string: \")\n",
    "dic = {} #creates an empty dictionary\n",
    "for ch in st:\n",
    "    if ch in dic: #if next character is already in the dictionary\n",
    "        dic[ch] += 1\n",
    "    else:\n",
    "        dic[ch] = 1 #if ch appears for the first time\n",
    "for key in dic:\n",
    "    print(key,':',dic[key])"
   ]
  },
  {
   "cell_type": "code",
   "execution_count": 7,
   "metadata": {},
   "outputs": [
    {
     "name": "stdout",
     "output_type": "stream",
     "text": [
      "Factorial of 5  is:  120\n"
     ]
    }
   ],
   "source": [
    "# Write a Python function to calculate the factorial of a number (a non-negative integer)\n",
    "def factorial(n): \n",
    "\tfact=1 \n",
    "\tfor i in range(1,n+1): \n",
    "\t\tfact=fact*i \n",
    "\treturn fact \n",
    "  \n",
    "n=int(input(\"Enter positive number 'N': \")) \n",
    "f=factorial(n) \n",
    "print(\"Factorial of\",n,\" is: \",f) "
   ]
  },
  {
   "cell_type": "code",
   "execution_count": 9,
   "metadata": {},
   "outputs": [
    {
     "name": "stdout",
     "output_type": "stream",
     "text": [
      " 5 is in the range\n"
     ]
    }
   ],
   "source": [
    "# Write a Python function to check whether a number is in a given range\n",
    "def test_range(n):\n",
    "    if n in range(3,9):\n",
    "        print( \" %s is in the range\"%str(n))\n",
    "    else :\n",
    "        print(\"The number is outside the given range.\")\n",
    "num=int(input(\"Enter any number:\"))\n",
    "test_range(num)\n"
   ]
  },
  {
   "cell_type": "code",
   "execution_count": 11,
   "metadata": {},
   "outputs": [
    {
     "name": "stdout",
     "output_type": "stream",
     "text": [
      "The number is not a Perfect number!\n"
     ]
    }
   ],
   "source": [
    "# Write a Python function to check whether a number is perfect or not.\n",
    "n = int(input(\"Enter any number: \"))\n",
    "sum1 = 0\n",
    "for i in range(1, n):\n",
    "    if(n % i == 0):\n",
    "        sum1 = sum1 + i\n",
    "if (sum1 == n):\n",
    "    print(\"The number is a Perfect number!\")\n",
    "else:\n",
    "    print(\"The number is not a Perfect number!\")"
   ]
  },
  {
   "cell_type": "code",
   "execution_count": 12,
   "metadata": {},
   "outputs": [
    {
     "name": "stdout",
     "output_type": "stream",
     "text": [
      "String is a palindrome!\n"
     ]
    }
   ],
   "source": [
    "# Write a Python function that checks whether a passed string is palindrome or not\n",
    "\n",
    "def is_palindrome(s):\n",
    "    if len(s) < 1:\n",
    "        return True\n",
    "    else:\n",
    "        if s[0] == s[-1]:\n",
    "            return is_palindrome(s[1:-1])\n",
    "        else:\n",
    "            return False\n",
    "a=str(input(\"Enter string:\"))\n",
    "if(is_palindrome(a)==True):\n",
    "    print(\"String is a palindrome!\")\n",
    "else:\n",
    "    print(\"String isn't a palindrome!\")"
   ]
  },
  {
   "cell_type": "code",
   "execution_count": 18,
   "metadata": {},
   "outputs": [
    {
     "name": "stdout",
     "output_type": "stream",
     "text": [
      "regex matches:  kom\n"
     ]
    }
   ],
   "source": [
    "# How do you perform pattern matching in Python? Explain\n",
    "#need modue 're'for regular expression\n",
    "\n",
    "import re\n",
    "search_string=input(\"enter a string:\")\n",
    "pattern=input(\"Enter String:\")\n",
    "match=re.match(pattern,search_string)\n",
    "# if -statement after search() tests if it succeeded\n",
    "if match:\n",
    "   print(\"regex matches: \", match.group())\n",
    "else:\n",
    "   print('pattern not found')\n",
    "\n",
    "\n"
   ]
  },
  {
   "cell_type": "code",
   "execution_count": 17,
   "metadata": {},
   "outputs": [
    {
     "name": "stdout",
     "output_type": "stream",
     "text": [
      "3\n"
     ]
    }
   ],
   "source": [
    "# What is lambda function in python? What we call a function which is incomplete version of a function?\n",
    "\n",
    "adder= lambda x,y:x+y\n",
    "print(adder(1,2))"
   ]
  },
  {
   "cell_type": "code",
   "execution_count": 3,
   "metadata": {},
   "outputs": [
    {
     "name": "stdout",
     "output_type": "stream",
     "text": [
      "6\n",
      "81\n",
      "15\n"
     ]
    }
   ],
   "source": [
    "# How Many Basic Types Of Functions Are Available In Python?\n",
    "\n",
    "# there are two types of function 1) built in function 2)user defined function\n",
    "\n",
    "# Exampe of built in function \n",
    "\n",
    "l1=[12,32,55,17,26,81]\n",
    "\n",
    "print(len(l1))\n",
    "print(max(l1))\n",
    "\n",
    "\n",
    "#User defined function\n",
    "x=int(input(\"enter no1:\"))\n",
    "y=int(input(\"enter no2:\"))\n",
    "def add():\n",
    "    print(x+y)\n",
    "add()\n"
   ]
  },
  {
   "cell_type": "code",
   "execution_count": 8,
   "metadata": {},
   "outputs": [
    {
     "name": "stdout",
     "output_type": "stream",
     "text": [
      "c\n"
     ]
    }
   ],
   "source": [
    "# How can you pick a random item from a list or tuple?\n",
    "import random\n",
    "\n",
    "letters = ['a', 'b', 'c', 'd', 'e', 'f']\n",
    "random_index = random.randint(0,len(letters)-1)\n",
    "\n",
    "print(letters[random_index])"
   ]
  },
  {
   "cell_type": "code",
   "execution_count": 9,
   "metadata": {},
   "outputs": [
    {
     "name": "stdout",
     "output_type": "stream",
     "text": [
      "e\n"
     ]
    }
   ],
   "source": [
    "# How can you pick a random item from a range?\n",
    "import random\n",
    "\n",
    "letters = ['a', 'b', 'c', 'd', 'e', 'f']\n",
    "random_index = random.randrange(0,len(letters)-1)\n",
    "\n",
    "print(letters[random_index])"
   ]
  },
  {
   "cell_type": "code",
   "execution_count": 10,
   "metadata": {},
   "outputs": [
    {
     "name": "stdout",
     "output_type": "stream",
     "text": [
      "4\n"
     ]
    }
   ],
   "source": [
    "\n",
    "# How can you get a random number in python?\n",
    "\n",
    "import random\n",
    "\n",
    "print(random.randint(0,9))"
   ]
  },
  {
   "cell_type": "code",
   "execution_count": 1,
   "metadata": {},
   "outputs": [
    {
     "name": "stdout",
     "output_type": "stream",
     "text": [
      "0.1456692551041303\n"
     ]
    }
   ],
   "source": [
    "# How will you set the starting value in generating random numbers?\n",
    "\n",
    "import random\n",
    "\n",
    "random.seed(100)\n",
    "print(random.random())"
   ]
  },
  {
   "cell_type": "code",
   "execution_count": 12,
   "metadata": {},
   "outputs": [
    {
     "name": "stdout",
     "output_type": "stream",
     "text": [
      "Reshuffled list :  [10, 20, 16, 5]\n",
      "Reshuffled list :  [10, 16, 5, 20]\n"
     ]
    }
   ],
   "source": [
    "# How will you randomizes the items of a list in place?\n",
    "\n",
    "import random\n",
    "\n",
    "list = [20, 16, 10, 5]\n",
    "\n",
    "random.shuffle(list)\n",
    "\n",
    "print (\"Reshuffled list : \",  list)\n",
    "\n",
    "random.shuffle(list)\n",
    "\n",
    "print (\"Reshuffled list : \",  list)"
   ]
  },
  {
   "cell_type": "code",
   "execution_count": 16,
   "metadata": {},
   "outputs": [
    {
     "name": "stdout",
     "output_type": "stream",
     "text": [
      "['line 1\\n', 'line 2\\n', 'line 3\\n', 'line 4\\n', 'line 5\\n', 'line 6\\n', 'line 7\\n', 'line 8\\n', 'line 9\\n', 'line 10\\n', '\\n']\n"
     ]
    }
   ],
   "source": [
    "# Write a Python program to read a random line from a file.\n",
    "import random\n",
    "def readrandomline():\n",
    "    f = open(\"first1.txt\",\"r\")\n",
    "    lines= f.readlines()\n",
    "    print(lines)\n",
    "    f.close()\n",
    "\n",
    "readrandomline()"
   ]
  },
  {
   "cell_type": "code",
   "execution_count": 3,
   "metadata": {},
   "outputs": [
    {
     "name": "stdout",
     "output_type": "stream",
     "text": [
      "1.5714285714285714\n"
     ]
    }
   ],
   "source": [
    "# Write a Python program to convert degree to radian\n",
    "pi=22/7\n",
    "degree = int(input(\"Input degrees: \"))\n",
    "radian = degree*(pi/180)\n",
    "print(radian)"
   ]
  },
  {
   "cell_type": "code",
   "execution_count": 4,
   "metadata": {},
   "outputs": [
    {
     "name": "stdout",
     "output_type": "stream",
     "text": [
      "Area is: 45.0\n"
     ]
    }
   ],
   "source": [
    "# Write a Python program to calculate the area of a trapezoid\n",
    "\n",
    "height = float(input(\"Height of trapezoid: \"))\n",
    "base_1 = float(input('Base one value: '))\n",
    "base_2 = float(input('Base two value: '))\n",
    "area = ((base_1 + base_2) / 2) * height\n",
    "print(\"Area is:\", area)"
   ]
  },
  {
   "cell_type": "code",
   "execution_count": 5,
   "metadata": {},
   "outputs": [
    {
     "name": "stdout",
     "output_type": "stream",
     "text": [
      "Area is:  30.0\n"
     ]
    }
   ],
   "source": [
    "# Write a Python program to calculate the area of a parallelogram\n",
    "base = float(input('Length of base: '))\n",
    "height = float(input('Measurement of height: '))\n",
    "area = base * height\n",
    "print(\"Area is: \", area)"
   ]
  },
  {
   "cell_type": "code",
   "execution_count": 6,
   "metadata": {},
   "outputs": [
    {
     "name": "stdout",
     "output_type": "stream",
     "text": [
      "Volume is:  452.57142857142856\n",
      "Surface Area is:  377.1428571428571\n"
     ]
    }
   ],
   "source": [
    "# Write a Python program to calculate surface volume and area of a cylinder\n",
    "pi=22/7\n",
    "height = float(input('Height of cylinder: '))\n",
    "radian = float(input('Radius of cylinder: '))\n",
    "volume = pi * radian * radian * height\n",
    "sur_area = ((2*pi*radian) * height) + ((pi*radian**2)*2)\n",
    "print(\"Volume is: \", volume)\n",
    "print(\"Surface Area is: \", sur_area)"
   ]
  },
  {
   "cell_type": "code",
   "execution_count": 11,
   "metadata": {},
   "outputs": [
    {
     "name": "stdout",
     "output_type": "stream",
     "text": [
      "16\n"
     ]
    }
   ],
   "source": [
    "# Write a Python program to returns sum of all divisors of a number\n",
    "divisor=[1]\n",
    "sum=1\n",
    "num=int(input(\"enter one no:\"))\n",
    "for i in range(2,num):\n",
    "    if (num%i)==0:\n",
    "        divisor.append(i)\n",
    "        sum +=i\n",
    "        \n",
    "print(sum)\n"
   ]
  },
  {
   "cell_type": "code",
   "execution_count": 15,
   "metadata": {},
   "outputs": [
    {
     "name": "stdout",
     "output_type": "stream",
     "text": [
      "7.25\n",
      "0.04\n"
     ]
    }
   ],
   "source": [
    "# Write 79a Python program to find the maximum and minimum numbers from the specified decimal numbers.\n",
    "l1=[2.45 ,2.69 ,2.45, 3.45, 2.00 ,0.04, 7.25]\n",
    "print(max(l1))\n",
    "print(min(l1))\n"
   ]
  },
  {
   "cell_type": "code",
   "execution_count": null,
   "metadata": {},
   "outputs": [],
   "source": []
  }
 ],
 "metadata": {
  "kernelspec": {
   "display_name": "Python 3.10.4 64-bit",
   "language": "python",
   "name": "python3"
  },
  "language_info": {
   "codemirror_mode": {
    "name": "ipython",
    "version": 3
   },
   "file_extension": ".py",
   "mimetype": "text/x-python",
   "name": "python",
   "nbconvert_exporter": "python",
   "pygments_lexer": "ipython3",
   "version": "3.10.4"
  },
  "orig_nbformat": 4,
  "vscode": {
   "interpreter": {
    "hash": "369f2c481f4da34e4445cda3fffd2e751bd1c4d706f27375911949ba6bb62e1c"
   }
  }
 },
 "nbformat": 4,
 "nbformat_minor": 2
}
