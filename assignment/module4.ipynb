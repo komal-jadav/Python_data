{
 "cells": [
  {
   "cell_type": "code",
   "execution_count": null,
   "metadata": {},
   "outputs": [],
   "source": [
    "# What is File function in python? What is keywords to create and write file.\n",
    "\n"
   ]
  },
  {
   "cell_type": "code",
   "execution_count": 1,
   "metadata": {},
   "outputs": [
    {
     "name": "stdout",
     "output_type": "stream",
     "text": [
      "hiii\n",
      "python is higher level programing language\n",
      "python is object oriented programing language\n",
      "python is most popular programing language\n",
      "\n"
     ]
    }
   ],
   "source": [
    "# Write a Python program to read an entire text file.\n",
    "\n",
    "f=open(\"C:\\\\Users\\\\SONY\\\\Documents\\\\GitHub\\\\Python_data\\\\DailyLectureWork\\\\21july\\\\example.txt\",\"r\")\n",
    "\n",
    "print(f.read())\n"
   ]
  },
  {
   "cell_type": "code",
   "execution_count": 5,
   "metadata": {},
   "outputs": [
    {
     "name": "stdout",
     "output_type": "stream",
     "text": [
      "\n",
      " my file practical\n",
      " this file is created by me\n",
      " hello all\n"
     ]
    }
   ],
   "source": [
    "# Write a Python program to append text to a file and display the text.\n",
    "\n",
    "import os\n",
    "f=open(\"C:\\\\Users\\\\SONY\\\\Documents\\\\GitHub\\\\Python_data\\\\assignment\\\\myfile_exampe.txt\",\"w\")\n",
    "\n",
    "f.write(\"\\n my file practical\")\n",
    "f.write(\"\\n this file is created by me\")\n",
    "f.write(\"\\n hello all\")\n",
    "\n",
    "t1=open(\"myfile_exampe.txt\")    #read file and print\n",
    "print(t1.read())\n",
    "f.close()"
   ]
  },
  {
   "cell_type": "code",
   "execution_count": 8,
   "metadata": {},
   "outputs": [
    {
     "name": "stdout",
     "output_type": "stream",
     "text": [
      "line number 1 in file\n",
      "\n",
      "line number 2 in file\n",
      "\n"
     ]
    }
   ],
   "source": [
    "# Write a Python program to read first n lines of a file.\n",
    "\n",
    "n = int(input(\"\\n\\t\\tEnter Lines To Read : \"))\n",
    "f = open(\"C:\\\\Users\\\\SONY\\\\Documents\\\\GitHub\\\\Python_data\\\\assignment\\\\ex.txt\",\"r\")\n",
    "for i in range(n):\n",
    "\tprint(f.readline())"
   ]
  },
  {
   "cell_type": "code",
   "execution_count": 11,
   "metadata": {},
   "outputs": [
    {
     "name": "stdout",
     "output_type": "stream",
     "text": [
      "last line of file is : line number 5 in file\n"
     ]
    }
   ],
   "source": [
    "# Write a Python program to read last n lines of a file.\n",
    "\n",
    "#n = int(input(\"\\n\\t\\tEnter Lines To Read : \"))\n",
    "f = open(\"C:\\\\Users\\\\SONY\\\\Documents\\\\GitHub\\\\Python_data\\\\assignment\\\\ex.txt\",\"r\")\n",
    "l1=f.readlines()\n",
    "\n",
    "print(\"last line of file is :\",l1[-1])"
   ]
  },
  {
   "cell_type": "code",
   "execution_count": 13,
   "metadata": {},
   "outputs": [
    {
     "name": "stdout",
     "output_type": "stream",
     "text": [
      "['line number 1 in file\\n', 'line number 2 in file\\n', 'line number 3 in file\\n', 'line number 4 in file\\n', 'line number 5 in file']\n"
     ]
    }
   ],
   "source": [
    "# Write a Python program to read a file line by line and store it into a list.\n",
    "\n",
    "\n",
    "f=open(\"C:\\\\Users\\\\SONY\\\\Documents\\\\GitHub\\\\Python_data\\\\assignment\\\\ex.txt\",\"r\")\n",
    "\n",
    "l1=f.readlines()\n",
    "print(l1)"
   ]
  },
  {
   "cell_type": "code",
   "execution_count": null,
   "metadata": {},
   "outputs": [],
   "source": [
    "# Write a Python program to read a file line by line store it into a variable."
   ]
  },
  {
   "cell_type": "code",
   "execution_count": 18,
   "metadata": {},
   "outputs": [
    {
     "name": "stdout",
     "output_type": "stream",
     "text": [
      "practical\n"
     ]
    }
   ],
   "source": [
    "# Write a python program to find the longest words.\n",
    "\n",
    "f=open(r\"C:\\\\Users\\\\SONY\\\\Documents\\\\GitHub\\\\Python_data\\\\assignment\\\\myfile_exampe.txt\",\"r\")\n",
    "longest_word=\"\"\n",
    "words = f.read().split()\n",
    "#max_len = len(max(words, key=len))\n",
    "\n",
    "for word in words:\n",
    "    if len(word) > len(longest_word):\n",
    "            longest_word = word\n",
    "print(longest_word)"
   ]
  },
  {
   "cell_type": "code",
   "execution_count": 19,
   "metadata": {},
   "outputs": [
    {
     "name": "stdout",
     "output_type": "stream",
     "text": [
      "Number of lines:\n",
      "3\n"
     ]
    }
   ],
   "source": [
    "# Write a Python program to count the number of lines in a text file.\n",
    "\n",
    "f=open(r\"C:\\\\Users\\\\SONY\\\\Documents\\\\GitHub\\\\Python_data\\\\assignment\\\\myfile_exampe.txt\",\"r\")\n",
    "num_lines=0\n",
    "for line in f:\n",
    "        num_lines += 1\n",
    "print(\"Number of lines:\")\n",
    "print(num_lines)"
   ]
  },
  {
   "cell_type": "code",
   "execution_count": 23,
   "metadata": {},
   "outputs": [
    {
     "name": "stdout",
     "output_type": "stream",
     "text": [
      "Counter({'my': 2, 'file': 2, 'practical': 2, 'hello': 2, 'all': 2, 'this': 1, 'is': 1, 'created': 1, 'by': 1, 'me': 1, 'mem': 1, 'not': 1, 'done': 1, 'i': 1, 'will': 1, 'submit': 1, 'very': 1, 'soon': 1})\n"
     ]
    }
   ],
   "source": [
    "# Write a Python program to count the frequency of words in a file.\n",
    "from collections import Counter\n",
    "\n",
    "f=open(\"C:\\\\Users\\\\SONY\\\\Documents\\\\GitHub\\\\Python_data\\\\assignment\\\\myfile_exampe.txt\",\"r\")\n",
    "\n",
    "r=Counter(f.read().split())\n",
    "\n",
    "print(r)"
   ]
  },
  {
   "cell_type": "code",
   "execution_count": 29,
   "metadata": {},
   "outputs": [
    {
     "name": "stdout",
     "output_type": "stream",
     "text": [
      "Done\n",
      "Done\n",
      "Done\n",
      "Done\n",
      "Done\n"
     ]
    }
   ],
   "source": [
    "# Write a Python program to write a list to a file.\n",
    "\n",
    "names = ['Komal', 'Dhvl', 'Guddu','DK','Kd']\n",
    "\n",
    "f=open(\"C:\\\\Users\\\\SONY\\\\Documents\\\\GitHub\\\\Python_data\\\\assignment\\\\myfile_exampe.txt\",\"w\")\n",
    "\n",
    "for item in names:\n",
    "    # write each item on a new line\n",
    "    f.write(\"%s\\n\" % item)\n",
    "    print('Done')\n"
   ]
  },
  {
   "cell_type": "code",
   "execution_count": 32,
   "metadata": {},
   "outputs": [
    {
     "name": "stdout",
     "output_type": "stream",
     "text": [
      "done\n"
     ]
    }
   ],
   "source": [
    "# Write a Python program to copy the contents of a file to another file.\n",
    "\n",
    "f1=open(\"C:\\\\Users\\\\SONY\\\\Documents\\\\GitHub\\\\Python_data\\\\assignment\\\\myfile_exampe.txt\",\"r\")\n",
    "f2=open(\"C:\\\\Users\\\\SONY\\\\Documents\\\\GitHub\\\\Python_data\\\\assignment\\\\ex.txt\",\"a\")\n",
    "\n",
    "for line in f1:\n",
    "               \n",
    "             # append content to second file\n",
    "    f2.write(line)\n",
    "print(\"done\")\n"
   ]
  },
  {
   "cell_type": "markdown",
   "metadata": {},
   "source": [
    " Explain Exception handling? What is an Error in Python?\n",
    "\n",
    "\n",
    "Exception=An exception is an event, which occurs during the execution of a program that disrupts the normal flow of the program's instructions.\n",
    "\n",
    "Error=An exception is a Python object that represents an error.\n"
   ]
  },
  {
   "cell_type": "code",
   "execution_count": 6,
   "metadata": {},
   "outputs": [
    {
     "name": "stdout",
     "output_type": "stream",
     "text": [
      "This statement is raising an ZeroDivision exception.\n"
     ]
    }
   ],
   "source": [
    "# How many except statements can a try-except block have? Name Some built-in exception classes:\n",
    "\n",
    "#There has to be at least one except statement.\n",
    "\n",
    "# Zero division Errror\n",
    "\n",
    "\n",
    "try:  \n",
    "    a=int(input(\"Enter no 1:\"))\n",
    "    b=int(input(\"Enter no 2:\"))\n",
    "    d=a/b  \n",
    "    print (d)\n",
    "except ZeroDivisionError:  \n",
    "        print (\"This statement is raising an ZeroDivision exception.\")\n",
    "\n",
    "else:  \n",
    "    print (\"Success.\")\n",
    "\n"
   ]
  },
  {
   "cell_type": "code",
   "execution_count": 7,
   "metadata": {},
   "outputs": [
    {
     "name": "stdout",
     "output_type": "stream",
     "text": [
      "2.0\n",
      "Success.\n"
     ]
    }
   ],
   "source": [
    "# When will the else part of try-except-else be executed? \n",
    "\n",
    "#else part execute when no exception occur\n",
    "\n",
    "\n",
    "try:  \n",
    "    a=int(input(\"Enter no 1:\"))\n",
    "    b=int(input(\"Enter no 2:\"))\n",
    "    d=a/b  \n",
    "    print (d)\n",
    "except ZeroDivisionError:  \n",
    "        print (\"This statement is raising an ZeroDivision exception.\")\n",
    "\n",
    "else:  \n",
    "    print (\"Success.\")\n",
    "\n",
    "\n"
   ]
  },
  {
   "cell_type": "markdown",
   "metadata": {},
   "source": [
    "# Can one block of except statements handle multiple exception?\n",
    "\n",
    "Each type of exception can be specified directly. There is no need to put it in a list. "
   ]
  },
  {
   "cell_type": "code",
   "execution_count": 2,
   "metadata": {},
   "outputs": [
    {
     "name": "stdout",
     "output_type": "stream",
     "text": [
      "make sure enterred number is greater than 0\n",
      "Thank you for using this app.\n"
     ]
    }
   ],
   "source": [
    "# When is the finally block executed?\n",
    "\n",
    "#it always execute exception call or not\n",
    "\n",
    "try:\n",
    "    num1=int(input(\"Enter one number:\"))\n",
    "    num2=int(input(\"Enter two number:\"))\n",
    "    ans=num1/num2\n",
    "\n",
    "  \n",
    "except  ZeroDivisionError:\n",
    "    print(\"make sure enterred number is greater than 0\")\n",
    "except:\n",
    "    print(\"invalid input\")\n",
    "else:\n",
    "    print(ans)\n",
    "finally:\n",
    "    print(\"Thank you for using this app.\")"
   ]
  },
  {
   "cell_type": "markdown",
   "metadata": {},
   "source": [
    " What happens when „1‟== 1 is executed? \n",
    "we get a false\n",
    "it simply evaluates to false and does not raise any exception.\n"
   ]
  },
  {
   "cell_type": "code",
   "execution_count": 3,
   "metadata": {},
   "outputs": [
    {
     "name": "stdout",
     "output_type": "stream",
     "text": [
      "0.9090909090909091\n",
      "Thank you for using this app.\n"
     ]
    }
   ],
   "source": [
    "# How Do You Handle Exceptions With Try/Except/Finally In Python? Explain with coding snippets.\n",
    "\n",
    "try:\n",
    "    num1=int(input(\"Enter one number:\"))\n",
    "    num2=int(input(\"Enter two number:\"))\n",
    "    ans=num1/num2\n",
    "\n",
    "  \n",
    "except  ZeroDivisionError:\n",
    "    print(\"make sure enterred number is greater than 0\")\n",
    "except:\n",
    "    print(\"invalid input\")\n",
    "else:\n",
    "    print(ans)\n",
    "finally:\n",
    "    print(\"Thank you for using this app.\")\n",
    "    "
   ]
  },
  {
   "cell_type": "code",
   "execution_count": 4,
   "metadata": {},
   "outputs": [
    {
     "name": "stdout",
     "output_type": "stream",
     "text": [
      "34\n",
      "2\n",
      "100\n",
      "1800\n"
     ]
    }
   ],
   "source": [
    "# Write python program that user to enter only odd numbers, else will raise an exception.\n",
    "\n",
    "list1 = [34,2,1,3,33,100,61,1800]\n",
    "\n",
    "for n in list1:\n",
    "    try:\n",
    "        if n%2 == 0:\n",
    "            print(n)\n",
    "    except:\n",
    "        pass"
   ]
  },
  {
   "cell_type": "markdown",
   "metadata": {},
   "source": [
    " What are oops concepts? Is multiple inheritance supported in java\n",
    "Major OOP (object-oriented programming) concepts in Python include Class, Object, Method, Inheritance, Polymorphism, Data Abstraction, and Encapsulation.\n",
    "\n",
    "When one class extends more than one classes then this is called multiple inheritance. For example: Class C extends class A and B then this type of inheritance is known as multiple inheritance. Java doesn’t allow multiple inheritance"
   ]
  },
  {
   "cell_type": "code",
   "execution_count": 5,
   "metadata": {},
   "outputs": [
    {
     "name": "stdout",
     "output_type": "stream",
     "text": [
      "10\n",
      "20\n"
     ]
    }
   ],
   "source": [
    "# How to Define a Class in Python? What Is Self? Give An Example Of A Python Class\n",
    "\n",
    "#class: class is collection of data member and member function in single entity\n",
    "\n",
    "# self: The self keyword is used to represent an instance (object) of the given class.\n",
    "\n",
    "class Sample:\n",
    "    num1=10\n",
    "    num2=20\n",
    "\n",
    "obj=Sample()\n",
    "print(obj.num1)\n",
    "print(obj.num2)\n"
   ]
  },
  {
   "cell_type": "code",
   "execution_count": 6,
   "metadata": {},
   "outputs": [
    {
     "name": "stdout",
     "output_type": "stream",
     "text": [
      "120\n"
     ]
    }
   ],
   "source": [
    "# Write a Python class named Rectangle constructed by a length and width and a method which will compute the area of a rectangle\n",
    "\n",
    "class Rectangle():\n",
    "    def __init__(self, l, w):\n",
    "        self.length = l\n",
    "        self.width  = w\n",
    "\n",
    "    def rectangle_area(self):\n",
    "        return self.length*self.width\n",
    "length=int(input(\"enter length of rectangle:\"))\n",
    "width=int(input(\"enter width of rectangle:\"))\n",
    "newRectangle = Rectangle(length, width)\n",
    "print(newRectangle.rectangle_area())"
   ]
  },
  {
   "cell_type": "code",
   "execution_count": null,
   "metadata": {},
   "outputs": [],
   "source": []
  }
 ],
 "metadata": {
  "kernelspec": {
   "display_name": "Python 3.10.4 64-bit",
   "language": "python",
   "name": "python3"
  },
  "language_info": {
   "codemirror_mode": {
    "name": "ipython",
    "version": 3
   },
   "file_extension": ".py",
   "mimetype": "text/x-python",
   "name": "python",
   "nbconvert_exporter": "python",
   "pygments_lexer": "ipython3",
   "version": "3.10.4"
  },
  "orig_nbformat": 4,
  "vscode": {
   "interpreter": {
    "hash": "369f2c481f4da34e4445cda3fffd2e751bd1c4d706f27375911949ba6bb62e1c"
   }
  }
 },
 "nbformat": 4,
 "nbformat_minor": 2
}
