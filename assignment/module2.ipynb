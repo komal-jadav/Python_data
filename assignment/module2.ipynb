{
 "cells": [
  {
   "cell_type": "code",
   "execution_count": 1,
   "metadata": {},
   "outputs": [
    {
     "name": "stdout",
     "output_type": "stream",
     "text": [
      "no. is positive :\n"
     ]
    }
   ],
   "source": [
    "#positive negative Zero\n",
    "\n",
    "num=int(input(\"Enter no:\"))\n",
    "if num>0:\n",
    "    print(\"no. is positive :\")\n",
    "elif num<0:\n",
    "    print(\"no.is negative:\")\n",
    "else:\n",
    "    print(\"no is zero:\")\n"
   ]
  },
  {
   "cell_type": "code",
   "execution_count": 2,
   "metadata": {},
   "outputs": [
    {
     "name": "stdout",
     "output_type": "stream",
     "text": [
      "Factorial: 1\n",
      "Factorial: 2\n",
      "Factorial: 6\n",
      "Factorial: 24\n",
      "Factorial: 120\n"
     ]
    }
   ],
   "source": [
    "#Factorial no.\n",
    "num=int(input(\"Enter a no.:-\"))\n",
    "if num>0:\n",
    "    f=1\n",
    "    for i in range(1,num+1):\n",
    "        f*=i\n",
    "        print(\"Factorial:\",f)\n",
    "else:\n",
    "    print(\"Invalid input\")"
   ]
  },
  {
   "cell_type": "code",
   "execution_count": 3,
   "metadata": {},
   "outputs": [
    {
     "name": "stdout",
     "output_type": "stream",
     "text": [
      "0\n",
      "1\n",
      "1\n",
      "2\n",
      "3\n",
      "5\n",
      "8\n"
     ]
    }
   ],
   "source": [
    "#Fibonacci series\n",
    "\n",
    "from itertools import count\n",
    "\n",
    "\n",
    "n=int(input(\"enter one no:\"))\n",
    "a=0\n",
    "b=1\n",
    "print(a)\n",
    "print(b)\n",
    "if n<0:\n",
    "    print(\"invalid input\")\n",
    "elif n==0:\n",
    "    print(0)\n",
    "elif n==1 and n==2:\n",
    "    print(b)\n",
    "else:\n",
    "    for n in range(1,n):\n",
    "        c=a+b\n",
    "        a=b\n",
    "        b=c\n",
    "        print(c)\n",
    "\n"
   ]
  },
  {
   "cell_type": "code",
   "execution_count": 4,
   "metadata": {},
   "outputs": [
    {
     "name": "stdout",
     "output_type": "stream",
     "text": [
      "Before swaping\n",
      "value of x: 3 value of y: 5\n",
      "After swaping\n",
      "value of x: 5 value of y: 3\n"
     ]
    }
   ],
   "source": [
    "#swap no. without temp variable\n",
    "x=int(input(\"enter one no:\"))\n",
    "y=int(input(\"enter second no:\"))\n",
    "print(\"Before swaping\")\n",
    "print(\"value of x:\",x,\"value of y:\",y)\n",
    "x,y=y,x\n",
    "print(\"After swaping\")\n",
    "print(\"value of x:\",x,\"value of y:\",y)\n"
   ]
  },
  {
   "cell_type": "code",
   "execution_count": 5,
   "metadata": {},
   "outputs": [
    {
     "name": "stdout",
     "output_type": "stream",
     "text": [
      "Before swaping\n",
      "value of x: 3 value of y: 7\n",
      "After swaping\n",
      "value of x: 7 value of y: 3\n"
     ]
    }
   ],
   "source": [
    "#swap no. using temp variable\n",
    "x=int(input(\"enter one no:\"))\n",
    "y=int(input(\"enter second no:\"))\n",
    "print(\"Before swaping\")\n",
    "print(\"value of x:\",x,\"value of y:\",y)\n",
    "a=x\n",
    "x=y\n",
    "y=a\n",
    "print(\"After swaping\")\n",
    "print(\"value of x:\",x,\"value of y:\",y)\n"
   ]
  },
  {
   "cell_type": "code",
   "execution_count": 6,
   "metadata": {},
   "outputs": [
    {
     "name": "stdout",
     "output_type": "stream",
     "text": [
      "no is even\n"
     ]
    }
   ],
   "source": [
    "#no is even or odd\n",
    "num=int(input(\"enter no. :-\"))\n",
    "if num%2==0:\n",
    "    print(\"no is even\")\n",
    "else:\n",
    "    print(\"no is odd\")\n"
   ]
  },
  {
   "cell_type": "code",
   "execution_count": 7,
   "metadata": {},
   "outputs": [
    {
     "name": "stdout",
     "output_type": "stream",
     "text": [
      "it is vowel\n"
     ]
    }
   ],
   "source": [
    "#passed letter is vowel or not\n",
    "     \n",
    "letter=input(\"enter one letter :\")\n",
    "if letter==\"a\" or letter==\"e\" or letter==\"i\" or letter==\"o\" or letter==\"u\":\n",
    "    print(\"it is vowel\")\n",
    "else:\n",
    "    print(\"it is not vowel\")\n",
    " \n"
   ]
  },
  {
   "cell_type": "code",
   "execution_count": 8,
   "metadata": {},
   "outputs": [
    {
     "name": "stdout",
     "output_type": "stream",
     "text": [
      "49\n"
     ]
    }
   ],
   "source": [
    "#sum of three integer but if two no. same than give zero\n",
    "num1=int(input(\"enter no1:\"))\n",
    "num2 = int(input(\"enter no2: \"))\n",
    "num3=int(input(\"enter no 3:\"))\n",
    "\n",
    "ans= num1+num2+num3\n",
    "if num1==num2 or num1==num3 or num2==num3:\n",
    "    print(0)\n",
    "else:\n",
    "    print(ans)"
   ]
  },
  {
   "cell_type": "code",
   "execution_count": 9,
   "metadata": {},
   "outputs": [
    {
     "name": "stdout",
     "output_type": "stream",
     "text": [
      "true\n"
     ]
    }
   ],
   "source": [
    "# return true if two no equal or sum 5 or difference 5\n",
    "\n",
    "n1=int(input(\"enter no1:-\"))\n",
    "n2=int(input(\"enter no2:-\"))\n",
    "ans1 = n1+n2\n",
    "ans2 =n1-n2\n",
    "if n1==n2 or ans1==5 or ans2==5:\n",
    "    print(\"true\")\n",
    "else:\n",
    "    print(\"false \")\n"
   ]
  },
  {
   "cell_type": "code",
   "execution_count": 10,
   "metadata": {},
   "outputs": [
    {
     "name": "stdout",
     "output_type": "stream",
     "text": [
      "66.0\n"
     ]
    }
   ],
   "source": [
    "#sum of first n positive integer\n",
    "\n",
    "n=int(input(\"enter no:\"))\n",
    "sum=(n*(n-1))/2\n",
    "print (sum)"
   ]
  },
  {
   "cell_type": "code",
   "execution_count": 11,
   "metadata": {},
   "outputs": [
    {
     "name": "stdout",
     "output_type": "stream",
     "text": [
      "name length is: 5\n"
     ]
    }
   ],
   "source": [
    "#Write a Python program to calculate the length of a string.\n",
    "\n",
    "name= input(\"Enter ur name:\")\n",
    "print(\"name length is:\",len(name))\n"
   ]
  },
  {
   "cell_type": "code",
   "execution_count": 12,
   "metadata": {},
   "outputs": [
    {
     "name": "stdout",
     "output_type": "stream",
     "text": [
      "k:1 o:1 m:1 a:1 l:1 "
     ]
    }
   ],
   "source": [
    "# Write a Python program to count the number of characters (character frequency) in a string\n",
    "\n",
    "name =input(\"Enter ur name :\")\n",
    "for i in name:\n",
    "    frequency = name.count(i)\n",
    "    print(str(i) +\":\"+str(frequency),end=\" \")\n",
    "\n"
   ]
  },
  {
   "cell_type": "code",
   "execution_count": 1,
   "metadata": {},
   "outputs": [
    {
     "name": "stdout",
     "output_type": "stream",
     "text": [
      "komal:1 "
     ]
    }
   ],
   "source": [
    "# Write a Python program to count occurrences of a substring in a string.\n",
    "name =input(\"Enter ur name :\")\n",
    "i=name.split(\",\")\n",
    "for word in i:\n",
    "    frequency = name.count(word)\n",
    "    print(str(word) +\":\"+str(frequency),end=\" \")\n"
   ]
  },
  {
   "cell_type": "code",
   "execution_count": 2,
   "metadata": {},
   "outputs": [
    {
     "name": "stdout",
     "output_type": "stream",
     "text": [
      "komal:1 "
     ]
    }
   ],
   "source": [
    "# Write a Python program to count the occurrences of each word in a given sentence\n",
    "\n",
    "name =input(\"Enter ur name :\")\n",
    "i=name.split()\n",
    "for word in i:\n",
    "    frequency = name.count(word)\n",
    "    print(str(word) +\":\"+str(frequency),end=\" \")"
   ]
  },
  {
   "cell_type": "code",
   "execution_count": 3,
   "metadata": {},
   "outputs": [
    {
     "name": "stdout",
     "output_type": "stream",
     "text": [
      "Your first string has become :-  dhmal\n",
      "Your second string has become :-  kovl\n"
     ]
    }
   ],
   "source": [
    "#Write a Python program to get a single string from two given strings, separated by a space and swap the first two characters of each string.\n",
    "\n",
    "str1 = input (\"enter one string:\")\n",
    "str2 = input(\"enter second string:\")\n",
    "\n",
    "\n",
    "x=str1[0:2]\n",
    "\n",
    "str1=str1.replace(str1[0:2],str2[0:2])\n",
    "\n",
    "str2=str2.replace(str2[0:2],x)\n",
    "\n",
    "print(\"Your first string has become :- \",str1)\n",
    "print(\"Your second string has become :- \",str2)\n",
    "\n",
    "\n",
    " \n",
    "\n"
   ]
  },
  {
   "cell_type": "code",
   "execution_count": 4,
   "metadata": {},
   "outputs": [
    {
     "name": "stdout",
     "output_type": "stream",
     "text": [
      "Adding only ing: komaling\n"
     ]
    }
   ],
   "source": [
    "# Write a Python program to add 'ing' at the end of a given string (length should be at least 3). If the given string already ends with 'ing' then add 'ly' instead if the string length of the given string is less than 3, leave it unchanged.\n",
    "str1= input(\"enter one string:-\")\n",
    "length = len(str1)  \n",
    "  \n",
    "if length > 2:  \n",
    "    if str1[-3:] == 'ing':  \n",
    "      str1 += 'ly' \n",
    "      print(\"Adding ly:\",str1) \n",
    "    else:  \n",
    "      str1 += 'ing' \n",
    "      print(\"Adding only ing:\",str1)\n",
    "else:\n",
    "    print(\"without adding anything:\",str1) "
   ]
  },
  {
   "cell_type": "code",
   "execution_count": 6,
   "metadata": {},
   "outputs": [
    {
     "name": "stdout",
     "output_type": "stream",
     "text": [
      "without change in string :- komalnot\n"
     ]
    }
   ],
   "source": [
    "# Write a Python program to find the first appearance of the substring 'not' and 'poor' from a given string, if 'not' follows the 'poor', replace the whole 'not'...'poor' substring with 'good'. Return the resulting string.\n",
    "str1=input(\"Enter one string:-\")\n",
    "#for find position of not and poor \n",
    "snot = str1.find('not')\n",
    "spoor = str1.find('poor')\n",
    "  \n",
    "\n",
    "if spoor > snot and snot>0 and spoor>0:\n",
    "    str1 = str1.replace(str1[snot:(spoor+4)], 'good') #4 is  for length of poor\n",
    "    print(\"new string is:-\",str1)\n",
    "\n",
    "  \n",
    "else:\n",
    "    print(\"without change in string :-\",str1)\n",
    "\n"
   ]
  },
  {
   "cell_type": "code",
   "execution_count": null,
   "metadata": {},
   "outputs": [],
   "source": [
    "# Write a Python function to reverses a string if its length is a multiple of 4.\n",
    "\n",
    "str1=input(\"enter one string:-\")\n",
    "rstring = ''.join(reversed(str1))\n",
    "\n",
    "if len(str1)%4==0:\n",
    "    print(\"Reversed string is :\",rstring)\n",
    "else:\n",
    "    print(\"As it is string:-\",str1)\n"
   ]
  },
  {
   "cell_type": "code",
   "execution_count": 8,
   "metadata": {},
   "outputs": [
    {
     "name": "stdout",
     "output_type": "stream",
     "text": [
      "Expected Result is : Empty String\n"
     ]
    }
   ],
   "source": [
    "# Write a Python program to get a string made of the first 2 and the last 2 chars from a given a string. If the string length is less than 2, return instead of the empty string.\n",
    "# Sample String: w3resource'\n",
    "# Expected Result: 'w3ce'\n",
    "# Sample String: 'w3'\n",
    "# Expected Result: 'w3w3'\n",
    "# Sample String: ' w'\n",
    "# Expected Result: Empty String\n",
    "str1=input(\"enter one string:-\")\n",
    "if len(str1)>2:\n",
    "    print(\"Expected Result is:\",str1[0:2]+str1[-2:])\n",
    "elif len(str1)==2:\n",
    "    print(\"Expected Result is: \",str1[0:2]+str1[0:2])\n",
    "else:\n",
    "    print(\"Expected Result is :\",\"Empty String\")\n",
    "\n"
   ]
  },
  {
   "cell_type": "code",
   "execution_count": 7,
   "metadata": {},
   "outputs": [
    {
     "name": "stdout",
     "output_type": "stream",
     "text": [
      "final string is: komal\n"
     ]
    }
   ],
   "source": [
    "# Write a Python function to insert a string in the middle of a string.\n",
    "str1=input(\"enter one string:-\")\n",
    "word=input(\"enter one word to insert:-\")\n",
    "midpoint=len(str1)//2\n",
    "final_string=str1[:midpoint]+ word +str1[midpoint:]\n",
    "print(\"final string is:\",final_string)\n"
   ]
  },
  {
   "cell_type": "code",
   "execution_count": null,
   "metadata": {},
   "outputs": [],
   "source": []
  }
 ],
 "metadata": {
  "kernelspec": {
   "display_name": "Python 3.10.4 64-bit",
   "language": "python",
   "name": "python3"
  },
  "language_info": {
   "codemirror_mode": {
    "name": "ipython",
    "version": 3
   },
   "file_extension": ".py",
   "mimetype": "text/x-python",
   "name": "python",
   "nbconvert_exporter": "python",
   "pygments_lexer": "ipython3",
   "version": "3.10.4"
  },
  "orig_nbformat": 4,
  "vscode": {
   "interpreter": {
    "hash": "369f2c481f4da34e4445cda3fffd2e751bd1c4d706f27375911949ba6bb62e1c"
   }
  }
 },
 "nbformat": 4,
 "nbformat_minor": 2
}
