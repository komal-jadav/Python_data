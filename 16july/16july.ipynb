{
 "cells": [
  {
   "cell_type": "code",
   "execution_count": 1,
   "metadata": {},
   "outputs": [
    {
     "name": "stdout",
     "output_type": "stream",
     "text": [
      "95\n",
      "Python\n",
      "['c++', 'Anroid', 'c', 'Python', 'java']\n"
     ]
    }
   ],
   "source": [
    "#modules\n",
    "#first way to import module\n",
    "import random\n",
    "\n",
    "#it will generate random number between 1-100\n",
    "\n",
    "num=random.randint(1,100)\n",
    "print(num)\n",
    "\n",
    "#random choice from list\n",
    "Subject_list=[\"c\",\"c++\",\"java\",\"Python\",\"Anroid\"]\n",
    "print(random.choice(Subject_list))\n",
    "\n",
    "#for shuffle the list\n",
    "Subject_list=[\"c\",\"c++\",\"java\",\"Python\",\"Anroid\"]\n",
    "random.shuffle(Subject_list)\n",
    "print(Subject_list)"
   ]
  },
  {
   "cell_type": "code",
   "execution_count": 2,
   "metadata": {},
   "outputs": [
    {
     "name": "stdout",
     "output_type": "stream",
     "text": [
      "67\n"
     ]
    }
   ],
   "source": [
    "#Second way to import module\n",
    "\n",
    "from random import choice\n",
    "\n",
    "#from random import * ---------------> import all function from random module\n",
    "l1=[12,23,45,67,436]\n",
    "print(choice(l1))"
   ]
  },
  {
   "cell_type": "code",
   "execution_count": 3,
   "metadata": {},
   "outputs": [
    {
     "name": "stdout",
     "output_type": "stream",
     "text": [
      "3.141592653589793\n",
      "5\n",
      "4\n",
      "120\n",
      "32.0\n",
      "8.0\n",
      "-0.3048106211022167\n",
      "0.15425144988758405\n"
     ]
    }
   ],
   "source": [
    "# Math module\n",
    "\n",
    "import math\n",
    "\n",
    "print(math.pi)\n",
    "print(math.ceil(4.32))\n",
    "print(math.floor(4.62))\n",
    "print(math.factorial(5))\n",
    "print(math.pow(2,5))\n",
    "print(math.sqrt(64))\n",
    "print(math.sin(60))\n",
    "print(math.cos(30))"
   ]
  },
  {
   "cell_type": "code",
   "execution_count": 8,
   "metadata": {},
   "outputs": [
    {
     "name": "stdout",
     "output_type": "stream",
     "text": [
      "2022-07-16 12:02:18.104433\n",
      "Saturday\n",
      "Sat\n",
      "July\n",
      "Jul\n",
      "20\n"
     ]
    }
   ],
   "source": [
    "#datetime module\n",
    "\n",
    "import datetime\n",
    "\n",
    "d=datetime.datetime.now()\n",
    "print(d)\n",
    "\n",
    "print(d.strftime(\"%A\"))         #show day\n",
    "print(d.strftime(\"%a\"))         #Show short form of day\n",
    "print(d.strftime(\"%B\"))         #Show month\n",
    "print(d.strftime(\"%b\"))            #Show short form of day\n",
    "print(d.strftime(\"%C\"))"
   ]
  },
  {
   "cell_type": "code",
   "execution_count": 6,
   "metadata": {},
   "outputs": [
    {
     "name": "stdout",
     "output_type": "stream",
     "text": [
      "Stored ID 5004863451 for profile utsavsinh_bapu_.\n",
      "utsavsinh_bapu_\\2022-07-09_04-32-05_UTC_profile_pic.jpg \n"
     ]
    }
   ],
   "source": [
    "import instaloader\n",
    "data=instaloader.Instaloader()\n",
    "username=input(\"Enter profile name\")\n",
    "\n",
    "data.download_profile(username,profile_pic_only=True)"
   ]
  },
  {
   "cell_type": "code",
   "execution_count": 7,
   "metadata": {},
   "outputs": [
    {
     "name": "stdout",
     "output_type": "stream",
     "text": [
      "Windows\n",
      "10.0.19044\n",
      "Intel64 Family 6 Model 58 Stepping 9, GenuineIntel\n"
     ]
    }
   ],
   "source": [
    "#import platform module\n",
    "import platform\n",
    "\n",
    "print(platform.system())\n",
    "print(platform.version())\n",
    "print(platform.processor())\n"
   ]
  },
  {
   "cell_type": "code",
   "execution_count": null,
   "metadata": {},
   "outputs": [],
   "source": []
  }
 ],
 "metadata": {
  "kernelspec": {
   "display_name": "Python 3.10.4 64-bit",
   "language": "python",
   "name": "python3"
  },
  "language_info": {
   "codemirror_mode": {
    "name": "ipython",
    "version": 3
   },
   "file_extension": ".py",
   "mimetype": "text/x-python",
   "name": "python",
   "nbconvert_exporter": "python",
   "pygments_lexer": "ipython3",
   "version": "3.10.4"
  },
  "orig_nbformat": 4,
  "vscode": {
   "interpreter": {
    "hash": "369f2c481f4da34e4445cda3fffd2e751bd1c4d706f27375911949ba6bb62e1c"
   }
  }
 },
 "nbformat": 4,
 "nbformat_minor": 2
}
