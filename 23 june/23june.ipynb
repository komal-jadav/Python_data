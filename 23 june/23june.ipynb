{
 "cells": [
  {
   "cell_type": "code",
   "execution_count": 1,
   "metadata": {},
   "outputs": [
    {
     "name": "stdout",
     "output_type": "stream",
     "text": [
      "\n",
      "                  Menu\n",
      "                Press 1 for Play\n",
      "                Press 2 for Exit\n",
      "     \n"
     ]
    }
   ],
   "source": [
    "#Multiline string\n",
    "menu=\"\"\"\n",
    "                  Menu\n",
    "                Press 1 for Play\n",
    "                Press 2 for Exit\n",
    "     \"\"\"\n",
    "print(menu)"
   ]
  },
  {
   "cell_type": "code",
   "execution_count": 2,
   "metadata": {},
   "outputs": [
    {
     "name": "stdout",
     "output_type": "stream",
     "text": [
      "5\n"
     ]
    }
   ],
   "source": [
    "#write program for check length of String\n",
    "name= input(\"Enter your name :\")\n",
    "print(len(name))"
   ]
  },
  {
   "cell_type": "code",
   "execution_count": 4,
   "metadata": {},
   "outputs": [
    {
     "name": "stdout",
     "output_type": "stream",
     "text": [
      "Yes\n"
     ]
    }
   ],
   "source": [
    "#Example of lower()\n",
    "Choice=input(\"Do you want to play again press 'y' for yes and 'n' for no\")\n",
    "if Choice.lower()=='y':\n",
    "    print(\"Yes\")\n",
    "else:\n",
    "    print(\"no\")"
   ]
  },
  {
   "cell_type": "code",
   "execution_count": 5,
   "metadata": {},
   "outputs": [
    {
     "name": "stdout",
     "output_type": "stream",
     "text": [
      "PYTHON\n"
     ]
    }
   ],
   "source": [
    "#Example of upper()\n",
    "\n",
    "name=\"python\"\n",
    "print(name.upper())"
   ]
  },
  {
   "cell_type": "code",
   "execution_count": 7,
   "metadata": {},
   "outputs": [
    {
     "name": "stdout",
     "output_type": "stream",
     "text": [
      "INVALID INPUT\n"
     ]
    }
   ],
   "source": [
    "#Example of endswith()\n",
    "website=input(\"Enter one website:\")\n",
    "if website.endswith(\".com\"):\n",
    "    print(\"VALID INPUT\")\n",
    "else:\n",
    "    print(\"INVALID INPUT\")"
   ]
  },
  {
   "cell_type": "code",
   "execution_count": 8,
   "metadata": {},
   "outputs": [
    {
     "name": "stdout",
     "output_type": "stream",
     "text": [
      "                     WELCOME                      \n"
     ]
    }
   ],
   "source": [
    "#leave 50 space before welcome\n",
    "name=\"WELCOME\"\n",
    "print(name.center(50))"
   ]
  },
  {
   "cell_type": "code",
   "execution_count": 9,
   "metadata": {},
   "outputs": [
    {
     "name": "stdout",
     "output_type": "stream",
     "text": [
      "Python\n"
     ]
    }
   ],
   "source": [
    "#Example of Capitalize()\n",
    "name=\"python\"\n",
    "print(name.capitalize())"
   ]
  },
  {
   "cell_type": "code",
   "execution_count": 11,
   "metadata": {},
   "outputs": [
    {
     "name": "stdout",
     "output_type": "stream",
     "text": [
      "Yes Valid\n"
     ]
    }
   ],
   "source": [
    "#Example of isalpha()\n",
    "F_name=input(\"Enter your name:\")\n",
    "if F_name.isalpha():\n",
    "    print(\"Yes Valid\")\n",
    "else:\n",
    "    print(\"Invalid Input\")"
   ]
  },
  {
   "cell_type": "code",
   "execution_count": 14,
   "metadata": {},
   "outputs": [
    {
     "name": "stdout",
     "output_type": "stream",
     "text": [
      "Invalid Input\n"
     ]
    }
   ],
   "source": [
    "#Example of isdigit()\n",
    "Contact_no=input(\"Enter your name:\")\n",
    "if Contact_no.isdigit():\n",
    "    print(\"Yes Valid\")\n",
    "else:\n",
    "    print(\"Invalid Input\")\n",
    "    "
   ]
  },
  {
   "cell_type": "code",
   "execution_count": 1,
   "metadata": {},
   "outputs": [
    {
     "name": "stdout",
     "output_type": "stream",
     "text": [
      "P\n",
      "y\n",
      "t\n",
      "h\n",
      "o\n",
      "n\n",
      "6\n"
     ]
    }
   ],
   "source": [
    "#find length of string without using len()\n",
    "name=input(\"Enter a Name:\")\n",
    "count=0\n",
    "for i in name:\n",
    "    count+=1\n",
    "    print(i)\n",
    "print(count)"
   ]
  },
  {
   "cell_type": "code",
   "execution_count": 3,
   "metadata": {},
   "outputs": [
    {
     "name": "stdout",
     "output_type": "stream",
     "text": [
      "Python\n",
      "P\n",
      "h\n",
      "n\n",
      "Pyth\n",
      "ho\n",
      "th\n",
      "hon\n"
     ]
    }
   ],
   "source": [
    "#Sting Slicing\n",
    "Subject=\"Python\"\n",
    "print(Subject)\n",
    "print(Subject[0])\n",
    "print(Subject[3])\n",
    "print(Subject[-1])\n",
    "print(Subject[:4])\n",
    "print(Subject[3:5])\n",
    "print(Subject[-4:-2])\n",
    "print(Subject[-3:])"
   ]
  },
  {
   "cell_type": "code",
   "execution_count": null,
   "metadata": {},
   "outputs": [],
   "source": []
  }
 ],
 "metadata": {
  "kernelspec": {
   "display_name": "Python 3.10.4 64-bit",
   "language": "python",
   "name": "python3"
  },
  "language_info": {
   "codemirror_mode": {
    "name": "ipython",
    "version": 3
   },
   "file_extension": ".py",
   "mimetype": "text/x-python",
   "name": "python",
   "nbconvert_exporter": "python",
   "pygments_lexer": "ipython3",
   "version": "3.10.4"
  },
  "orig_nbformat": 4,
  "vscode": {
   "interpreter": {
    "hash": "369f2c481f4da34e4445cda3fffd2e751bd1c4d706f27375911949ba6bb62e1c"
   }
  }
 },
 "nbformat": 4,
 "nbformat_minor": 2
}
