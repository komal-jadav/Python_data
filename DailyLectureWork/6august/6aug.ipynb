{
 "cells": [
  {
   "cell_type": "code",
   "execution_count": 1,
   "metadata": {},
   "outputs": [
    {
     "name": "stdout",
     "output_type": "stream",
     "text": [
      "speed of vehicle.\n",
      "160\n",
      "speed of vehicle.\n",
      "80\n"
     ]
    }
   ],
   "source": [
    "#Polymorphism\n",
    "#method Overriding- two class same name method\n",
    "\n",
    "class vehicleclass:\n",
    "    def speed(self):\n",
    "        print(\"speed of vehicle.\")\n",
    "class Car(vehicleclass):\n",
    "    def speed(self):\n",
    "        vehicleclass.speed(self)\n",
    "        print(160)\n",
    "class Bike(vehicleclass):\n",
    "    def  speed(self):\n",
    "        vehicleclass.speed(self)\n",
    "        print(80)\n",
    "\n",
    "car=Car()\n",
    "car.speed()\n",
    "\n",
    "bike=Bike()\n",
    "bike.speed()"
   ]
  },
  {
   "cell_type": "code",
   "execution_count": null,
   "metadata": {},
   "outputs": [],
   "source": []
  }
 ],
 "metadata": {
  "kernelspec": {
   "display_name": "Python 3.10.4 64-bit",
   "language": "python",
   "name": "python3"
  },
  "language_info": {
   "codemirror_mode": {
    "name": "ipython",
    "version": 3
   },
   "file_extension": ".py",
   "mimetype": "text/x-python",
   "name": "python",
   "nbconvert_exporter": "python",
   "pygments_lexer": "ipython3",
   "version": "3.10.4"
  },
  "orig_nbformat": 4,
  "vscode": {
   "interpreter": {
    "hash": "369f2c481f4da34e4445cda3fffd2e751bd1c4d706f27375911949ba6bb62e1c"
   }
  }
 },
 "nbformat": 4,
 "nbformat_minor": 2
}
