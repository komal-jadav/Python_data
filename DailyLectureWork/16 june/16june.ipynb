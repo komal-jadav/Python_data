{
 "cells": [
  {
   "cell_type": "code",
   "execution_count": 1,
   "metadata": {},
   "outputs": [
    {
     "name": "stdout",
     "output_type": "stream",
     "text": [
      "num=20\n"
     ]
    }
   ],
   "source": [
    "#elif statement\n",
    "num=int(input(\"Enter a number :\"))\n",
    "if num==10:\n",
    "    print(\"num=10\")\n",
    "elif num==20:\n",
    "    print(\"num=20\")\n",
    "elif num==30:\n",
    "    print(\"num=30\")\n",
    "else:\n",
    "    print(\"invalid number\")"
   ]
  },
  {
   "cell_type": "code",
   "execution_count": 3,
   "metadata": {},
   "outputs": [
    {
     "name": "stdout",
     "output_type": "stream",
     "text": [
      "number is below 10 or above 100\n"
     ]
    }
   ],
   "source": [
    "# check the no. is between 10-50 or 50-100\n",
    "\n",
    "num=int(input(\"Enter a number:\"))\n",
    "if num>=10 and num<=50:\n",
    "    print(\"number is between 10-50\")\n",
    "elif num>=51 and num<=100:\n",
    "    print(\"number is between:\")\n",
    "else:\n",
    "    print(\"number is below 10 or above 100\")"
   ]
  },
  {
   "cell_type": "code",
   "execution_count": 4,
   "metadata": {},
   "outputs": [
    {
     "name": "stdout",
     "output_type": "stream",
     "text": [
      "C grade\n"
     ]
    }
   ],
   "source": [
    "\n",
    "#Accept marks from student and give appropriate grade\n",
    "\"\"\"\n",
    "Above 70:A\n",
    "60-70 :B\n",
    "50-60:C\n",
    "40-50:D\n",
    "below 35:fail\n",
    "\n",
    "\"\"\"\n",
    "\n",
    "marks=int(input(\"enter ur marks out of 100:\"))\n",
    "\n",
    "if marks>=70:\n",
    "    print(\"A grade\")\n",
    "elif marks>=60 and marks<=69:\n",
    "    print(\"B grade\")\n",
    "elif marks>=50  and marks<60:\n",
    "    print(\"C grade\")\n",
    "elif marks>=40  and marks<=49:\n",
    "    print(\"D grade\")\n",
    "else:\n",
    "    print(\"Fail\")"
   ]
  },
  {
   "cell_type": "code",
   "execution_count": 6,
   "metadata": {},
   "outputs": [
    {
     "name": "stdout",
     "output_type": "stream",
     "text": [
      "Welcome to tops technoogy\n"
     ]
    }
   ],
   "source": [
    "#nestedif statement \n",
    "email=\"k@gmail.com\"\n",
    "password=\"12345\"\n",
    "S_email = input(\"Enter ue email:\")\n",
    "S_password =input(\"Enter ur password:\")\n",
    "if S_email==email:\n",
    "    if S_password==password:\n",
    "            print(\"Welcome to tops technoogy\")\n",
    "    else:\n",
    "            print(\"invalid password\")\n",
    "else:\n",
    "\n",
    "           print(\"Invalid email\")"
   ]
  },
  {
   "cell_type": "code",
   "execution_count": 8,
   "metadata": {},
   "outputs": [
    {
     "name": "stdout",
     "output_type": "stream",
     "text": [
      "Invalid input\n"
     ]
    }
   ],
   "source": [
    "#whta is print if student give marks above 100 and negative marks \n",
    "\n",
    "\n",
    "marks=int(input(\"enter ur marks:\"))\n",
    "if marks>=0 and marks<=100:\n",
    "    if marks>=70:\n",
    "            print(\"A grade\")\n",
    "    elif marks>=60 and marks<=69:\n",
    "            print(\"B grade\")\n",
    "    elif marks>=50  and marks<60:\n",
    "            print(\"C grade\")\n",
    "    elif marks>=40  and marks<=49:\n",
    "            print(\"D grade\")\n",
    "    else:\n",
    "            print(\"Fail\")\n",
    "else:\n",
    "    print(\"Invalid input\")"
   ]
  },
  {
   "cell_type": "code",
   "execution_count": 9,
   "metadata": {},
   "outputs": [
    {
     "name": "stdout",
     "output_type": "stream",
     "text": [
      "1\n",
      "2\n",
      "3\n",
      "4\n",
      "5\n"
     ]
    }
   ],
   "source": [
    "#looping Statement\n",
    "#for loop\n",
    "for i in range(1,6):\n",
    "    print(i)"
   ]
  },
  {
   "cell_type": "code",
   "execution_count": 10,
   "metadata": {},
   "outputs": [
    {
     "name": "stdout",
     "output_type": "stream",
     "text": [
      "0\n",
      "1\n",
      "2\n",
      "3\n",
      "4\n"
     ]
    }
   ],
   "source": [
    "#By default starting from 0\n",
    "for i in range(5):\n",
    "    print(i)"
   ]
  },
  {
   "cell_type": "code",
   "execution_count": 11,
   "metadata": {},
   "outputs": [
    {
     "name": "stdout",
     "output_type": "stream",
     "text": [
      "5\n",
      "4\n",
      "3\n",
      "2\n",
      "1\n"
     ]
    }
   ],
   "source": [
    "#Decending Order \n",
    "for i in range(5,0,-1):\n",
    "    print(i)"
   ]
  },
  {
   "cell_type": "code",
   "execution_count": 12,
   "metadata": {},
   "outputs": [
    {
     "name": "stdout",
     "output_type": "stream",
     "text": [
      "1\n",
      "3\n",
      "5\n",
      "7\n",
      "9\n"
     ]
    }
   ],
   "source": [
    "#add 2 in all no.\n",
    "for i in range(1,11,2):\n",
    "    print(i)"
   ]
  },
  {
   "cell_type": "code",
   "execution_count": 13,
   "metadata": {},
   "outputs": [
    {
     "name": "stdout",
     "output_type": "stream",
     "text": [
      "1 hello\n",
      "2 hello\n",
      "3 hello\n",
      "4 hello\n",
      "5 hello\n"
     ]
    }
   ],
   "source": [
    "#to display hello with i \n",
    "for i in range(1,6):\n",
    "    print(i,\"hello\")"
   ]
  },
  {
   "cell_type": "code",
   "execution_count": null,
   "metadata": {},
   "outputs": [],
   "source": []
  }
 ],
 "metadata": {
  "kernelspec": {
   "display_name": "Python 3.10.4 64-bit",
   "language": "python",
   "name": "python3"
  },
  "language_info": {
   "codemirror_mode": {
    "name": "ipython",
    "version": 3
   },
   "file_extension": ".py",
   "mimetype": "text/x-python",
   "name": "python",
   "nbconvert_exporter": "python",
   "pygments_lexer": "ipython3",
   "version": "3.10.4"
  },
  "orig_nbformat": 4,
  "vscode": {
   "interpreter": {
    "hash": "369f2c481f4da34e4445cda3fffd2e751bd1c4d706f27375911949ba6bb62e1c"
   }
  }
 },
 "nbformat": 4,
 "nbformat_minor": 2
}
