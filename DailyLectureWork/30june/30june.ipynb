{
 "cells": [
  {
   "cell_type": "code",
   "execution_count": 1,
   "metadata": {},
   "outputs": [
    {
     "name": "stdout",
     "output_type": "stream",
     "text": [
      "()\n",
      "<class 'tuple'>\n"
     ]
    }
   ],
   "source": [
    "# example of tuple\n",
    "t=()\n",
    "print(t)\n",
    "print(type(t))"
   ]
  },
  {
   "cell_type": "code",
   "execution_count": 2,
   "metadata": {},
   "outputs": [
    {
     "name": "stdout",
     "output_type": "stream",
     "text": [
      "12\n",
      "<class 'int'>\n"
     ]
    }
   ],
   "source": [
    "#for one element check type\n",
    "t=(12)\n",
    "print(t)\n",
    "print(type(t))"
   ]
  },
  {
   "cell_type": "code",
   "execution_count": 3,
   "metadata": {},
   "outputs": [
    {
     "name": "stdout",
     "output_type": "stream",
     "text": [
      "(12,)\n",
      "<class 'tuple'>\n"
     ]
    }
   ],
   "source": [
    "#for one element check type with ,\n",
    "t=(12,)\n",
    "print(t)\n",
    "print(type(t))"
   ]
  },
  {
   "cell_type": "code",
   "execution_count": 4,
   "metadata": {},
   "outputs": [
    {
     "name": "stdout",
     "output_type": "stream",
     "text": [
      "(12, 26, 17, 34, 55, 81)\n",
      "12\n",
      "26\n",
      "17\n",
      "34\n",
      "55\n",
      "81\n"
     ]
    }
   ],
   "source": [
    "# print tuple and print tuple using for loop\n",
    "t=(12,26,17,34,55,81)\n",
    "print(t)\n",
    "\n",
    "for i in t:\n",
    "    print(i)"
   ]
  },
  {
   "cell_type": "code",
   "execution_count": 6,
   "metadata": {},
   "outputs": [
    {
     "name": "stdout",
     "output_type": "stream",
     "text": [
      "(12, 17, 'python', 'java', 55, 81)\n"
     ]
    }
   ],
   "source": [
    "# tuple with mix data type\n",
    "t=(12,17,\"python\",\"java\",55,81)\n",
    "print(t)"
   ]
  },
  {
   "cell_type": "code",
   "execution_count": 7,
   "metadata": {},
   "outputs": [
    {
     "name": "stdout",
     "output_type": "stream",
     "text": [
      "(12, 17, 26, 34, 55, 81)\n",
      "12\n",
      "17\n",
      "34\n"
     ]
    }
   ],
   "source": [
    "#Indexing in tupple \n",
    "t=(12,17,26,34,55,81)\n",
    "print(t)\n",
    "print(t[0])\n",
    "print(t[1])\n",
    "print(t[-3])\n"
   ]
  },
  {
   "cell_type": "code",
   "execution_count": 8,
   "metadata": {},
   "outputs": [
    {
     "name": "stdout",
     "output_type": "stream",
     "text": [
      "4\n",
      "3\n",
      "9\n"
     ]
    }
   ],
   "source": [
    "t=(12,17,26,34,12,55,12,12,81)\n",
    "print(t.count(12))\n",
    "\n",
    "print(t.index(34))\n",
    "\n",
    "print(len(t))"
   ]
  },
  {
   "cell_type": "code",
   "execution_count": 9,
   "metadata": {},
   "outputs": [
    {
     "name": "stdout",
     "output_type": "stream",
     "text": [
      "('python', 'java', 'php', 'C')\n"
     ]
    }
   ],
   "source": [
    "# Example of Add element in tupple\n",
    "t=(\"python\",\"java\",\"php\")\n",
    "l1=list(t)\n",
    "l1.append(\"C\")\n",
    "t=tuple(l1)\n",
    "print(t)"
   ]
  },
  {
   "cell_type": "code",
   "execution_count": 10,
   "metadata": {},
   "outputs": [
    {
     "name": "stdout",
     "output_type": "stream",
     "text": [
      "(12, 17, 26, 34, 55, 81)\n"
     ]
    },
    {
     "ename": "NameError",
     "evalue": "name 't' is not defined",
     "output_type": "error",
     "traceback": [
      "\u001b[1;31m---------------------------------------------------------------------------\u001b[0m",
      "\u001b[1;31mNameError\u001b[0m                                 Traceback (most recent call last)",
      "\u001b[1;32mc:\\Users\\SONY\\Documents\\GitHub\\Python_data\\30june\\30june.ipynb Cell 9\u001b[0m in \u001b[0;36m<cell line: 5>\u001b[1;34m()\u001b[0m\n\u001b[0;32m      <a href='vscode-notebook-cell:/c%3A/Users/SONY/Documents/GitHub/Python_data/30june/30june.ipynb#ch0000008?line=2'>3</a>\u001b[0m \u001b[39mprint\u001b[39m(t)\n\u001b[0;32m      <a href='vscode-notebook-cell:/c%3A/Users/SONY/Documents/GitHub/Python_data/30june/30june.ipynb#ch0000008?line=3'>4</a>\u001b[0m \u001b[39mdel\u001b[39;00m t\n\u001b[1;32m----> <a href='vscode-notebook-cell:/c%3A/Users/SONY/Documents/GitHub/Python_data/30june/30june.ipynb#ch0000008?line=4'>5</a>\u001b[0m \u001b[39mprint\u001b[39m(t)\n",
      "\u001b[1;31mNameError\u001b[0m: name 't' is not defined"
     ]
    }
   ],
   "source": [
    "#remove tupple from memory\n",
    "t=(12,17,26,34,55,81)\n",
    "print(t)\n",
    "del t\n",
    "print(t)"
   ]
  },
  {
   "cell_type": "code",
   "execution_count": 11,
   "metadata": {},
   "outputs": [
    {
     "name": "stdout",
     "output_type": "stream",
     "text": [
      "[12, 17, 26, 34, 55, 81, 12, 17, 26]\n",
      "[12, 17, 26, 34, 55, 81]\n"
     ]
    }
   ],
   "source": [
    "#find unique element from list\n",
    "l1=[12,17,26,34,55,81,12,17,26]\n",
    "print(l1)\n",
    "l2=[]\n",
    "for i in l1:\n",
    "    if i not in l2:\n",
    "        l2.append(i)\n",
    "print(l2)"
   ]
  },
  {
   "cell_type": "code",
   "execution_count": 12,
   "metadata": {},
   "outputs": [
    {
     "name": "stdout",
     "output_type": "stream",
     "text": [
      "{81, 34, 17, 55, 26, 12}\n"
     ]
    }
   ],
   "source": [
    "# example of set\n",
    "s1={12,17,26,34,55,81,12,17,26}\n",
    "print(s1)                       #remove all duplicate value"
   ]
  },
  {
   "cell_type": "code",
   "execution_count": 13,
   "metadata": {},
   "outputs": [
    {
     "name": "stdout",
     "output_type": "stream",
     "text": [
      "[34, 12, 17, 81, 55, 26]\n"
     ]
    }
   ],
   "source": [
    "#remove duplicate value from the list using set\n",
    "l1=[12,17,26,34,55,81,12,17,26]\n",
    "s =set(l1)\n",
    "l1 =list(s)\n",
    "print(l1)"
   ]
  },
  {
   "cell_type": "code",
   "execution_count": null,
   "metadata": {},
   "outputs": [],
   "source": []
  }
 ],
 "metadata": {
  "kernelspec": {
   "display_name": "Python 3.10.4 64-bit",
   "language": "python",
   "name": "python3"
  },
  "language_info": {
   "codemirror_mode": {
    "name": "ipython",
    "version": 3
   },
   "file_extension": ".py",
   "mimetype": "text/x-python",
   "name": "python",
   "nbconvert_exporter": "python",
   "pygments_lexer": "ipython3",
   "version": "3.10.4"
  },
  "orig_nbformat": 4,
  "vscode": {
   "interpreter": {
    "hash": "369f2c481f4da34e4445cda3fffd2e751bd1c4d706f27375911949ba6bb62e1c"
   }
  }
 },
 "nbformat": 4,
 "nbformat_minor": 2
}
