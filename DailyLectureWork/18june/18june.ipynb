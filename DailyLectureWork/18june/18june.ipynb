{
 "cells": [
  {
   "cell_type": "code",
   "execution_count": 1,
   "metadata": {},
   "outputs": [
    {
     "name": "stdout",
     "output_type": "stream",
     "text": [
      "NAME: komal\n",
      "NAME: dhvl\n",
      "NAME: guddu\n",
      "NAME: guddu\n",
      "NAME: kd\n"
     ]
    }
   ],
   "source": [
    "#Accept five Names from user\n",
    "for i in range(1,6):\n",
    "    name=input(\"Enter name:\")\n",
    "    print(\"NAME:\",name)"
   ]
  },
  {
   "cell_type": "code",
   "execution_count": 2,
   "metadata": {},
   "outputs": [
    {
     "name": "stdout",
     "output_type": "stream",
     "text": [
      "NUMBER: 15\n",
      "NUMBER: 45\n",
      "NUMBER: 30\n",
      "NUMBER: 42\n",
      "NUMBER: 20\n"
     ]
    }
   ],
   "source": [
    "#Accept five Number from user\n",
    "for i in range(1,6):\n",
    "    num=int(input(\"Enter name:\"))\n",
    "    print(\"NUMBER:\",num)"
   ]
  },
  {
   "cell_type": "code",
   "execution_count": 4,
   "metadata": {},
   "outputs": [
    {
     "name": "stdout",
     "output_type": "stream",
     "text": [
      "ADDITION= 23\n",
      "ADDITION= 44\n",
      "ADDITION= 67\n",
      "ADDITION= 88\n",
      "ADDITION= 111\n"
     ]
    }
   ],
   "source": [
    "#Accept five number from user and sum of them\n",
    "Sum=0\n",
    "for i in range(1,6):\n",
    "    num=int(input(\"Enter A Number:\"))\n",
    "    Sum +=num\n",
    "    print(\"ADDITION=\",Sum)"
   ]
  },
  {
   "cell_type": "code",
   "execution_count": null,
   "metadata": {},
   "outputs": [],
   "source": [
    "#Accept five number and find even numbers and odd numbers:\n",
    "for i in range(0,5):\n",
    "    num=int(input(\"Enter no:\"))\n",
    "    if num%2==0:\n",
    "        print(\"Number is Even\")\n",
    "    else:\n",
    "        print(\"Number is Odd\")\n",
    "    "
   ]
  },
  {
   "cell_type": "code",
   "execution_count": 7,
   "metadata": {},
   "outputs": [
    {
     "name": "stdout",
     "output_type": "stream",
     "text": [
      "EVEN_Count= 4\n",
      "Odd_Count= 1\n"
     ]
    }
   ],
   "source": [
    "#Accept 5 numbers and Count no of even and odd number\n",
    "count_E=0\n",
    "count_O=0\n",
    "for i in range(0,5):\n",
    "    num=int(input(\"Enter no:\"))\n",
    "    if num%2==0:\n",
    "        count_E+=1\n",
    "    else:\n",
    "        count_O+=1\n",
    "print(\"EVEN_Count=\",count_E)\n",
    "print(\"Odd_Count=\",count_O)\n",
    "\n"
   ]
  },
  {
   "cell_type": "code",
   "execution_count": 8,
   "metadata": {},
   "outputs": [
    {
     "name": "stdout",
     "output_type": "stream",
     "text": [
      "Positive_Count= 3\n",
      "Negative_Count= 2\n"
     ]
    }
   ],
   "source": [
    "#Accept 5 numbers from users and count no of positive and count no of negative\n",
    "count_positive=0\n",
    "count_negetive=0\n",
    "for i in range(0,5):\n",
    "    num=int(input(\"Enter No:\"))\n",
    "    if num>0:\n",
    "        count_positive+=1\n",
    "    else:\n",
    "        count_negetive+=1\n",
    "print(\"Positive_Count=\",count_positive)\n",
    "print(\"Negative_Count=\",count_negetive)\n"
   ]
  },
  {
   "cell_type": "code",
   "execution_count": 9,
   "metadata": {},
   "outputs": [
    {
     "name": "stdout",
     "output_type": "stream",
     "text": [
      "Fctorial: 120\n"
     ]
    }
   ],
   "source": [
    "#FACTORIAL NUMBER (5=5*4*3*2*1)\n",
    "\n",
    "num =int(input(\"Enter Number:\"))\n",
    "if num>0:\n",
    "    f=1\n",
    "    for i in range(1,num+1):\n",
    "        f*=i\n",
    "    print(\"Fctorial:\",f)\n",
    "else:\n",
    "    print(\"INVALID INPUT\")"
   ]
  },
  {
   "cell_type": "code",
   "execution_count": null,
   "metadata": {},
   "outputs": [],
   "source": []
  }
 ],
 "metadata": {
  "kernelspec": {
   "display_name": "Python 3.10.4 64-bit",
   "language": "python",
   "name": "python3"
  },
  "language_info": {
   "codemirror_mode": {
    "name": "ipython",
    "version": 3
   },
   "file_extension": ".py",
   "mimetype": "text/x-python",
   "name": "python",
   "nbconvert_exporter": "python",
   "pygments_lexer": "ipython3",
   "version": "3.10.4"
  },
  "orig_nbformat": 4,
  "vscode": {
   "interpreter": {
    "hash": "369f2c481f4da34e4445cda3fffd2e751bd1c4d706f27375911949ba6bb62e1c"
   }
  }
 },
 "nbformat": 4,
 "nbformat_minor": 2
}
