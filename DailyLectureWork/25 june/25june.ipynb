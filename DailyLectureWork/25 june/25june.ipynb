{
 "cells": [
  {
   "cell_type": "code",
   "execution_count": 1,
   "metadata": {},
   "outputs": [
    {
     "name": "stdout",
     "output_type": "stream",
     "text": [
      "[]\n",
      "[12, 26, 17, 55, 81]\n",
      "['c', 'c++', 'java', 'Android', 'Python']\n"
     ]
    }
   ],
   "source": [
    "#Example of List\n",
    "l1=[]\n",
    "print(l1)\n",
    "l1=[12,26,17,55,81]\n",
    "print(l1)\n",
    "l1=[\"c\",\"c++\",\"java\",\"Android\",\"Python\"]\n",
    "print(l1)"
   ]
  },
  {
   "cell_type": "code",
   "execution_count": 2,
   "metadata": {},
   "outputs": [
    {
     "name": "stdout",
     "output_type": "stream",
     "text": [
      "[]\n",
      "['friuts']\n"
     ]
    }
   ],
   "source": [
    "#Example of Add element in list\n",
    "Shopping_list=[]\n",
    "print(Shopping_list)\n",
    "product=input(\"Enter product:\")\n",
    "Shopping_list.append(product)\n",
    "print(Shopping_list)"
   ]
  },
  {
   "cell_type": "code",
   "execution_count": 3,
   "metadata": {},
   "outputs": [
    {
     "name": "stdout",
     "output_type": "stream",
     "text": [
      "['dhvl', 'komal', 'dk', 'kd', 'guddu']\n"
     ]
    }
   ],
   "source": [
    "#Example of Add five elements in list\n",
    "S_name=[]\n",
    "for i in range(1,6):\n",
    "    name=input(\"Enter name:\")\n",
    "    S_name.append(name)\n",
    "print(S_name)"
   ]
  },
  {
   "cell_type": "code",
   "execution_count": 7,
   "metadata": {},
   "outputs": [
    {
     "name": "stdout",
     "output_type": "stream",
     "text": [
      "Subject is not Available\n"
     ]
    }
   ],
   "source": [
    "#check Enter data in list is exist or not\n",
    "\n",
    "Subject_list =[\"python\",\"c\",\"c++\",\"java\"]\n",
    "Subject=input(\"Enter Subject:\")\n",
    "if Subject not in Subject_list:\n",
    "    print(\"Subject is not Available\")\n",
    "else:\n",
    "    print(\"SSubject is available\")\n",
    "    "
   ]
  },
  {
   "cell_type": "code",
   "execution_count": 8,
   "metadata": {},
   "outputs": [
    {
     "name": "stdout",
     "output_type": "stream",
     "text": [
      "[12, 26, 17, 55, 81]\n",
      "[12, 17, 55, 81]\n",
      "[12, 17, 55]\n",
      "[]\n"
     ]
    }
   ],
   "source": [
    "#Example of remove element from lit\n",
    "l1=[12,26,17,55,81]\n",
    "print(l1)\n",
    "l1.remove(26)  #remove 26\n",
    "print(l1)\n",
    "l1.pop()       #remove last element \n",
    "print(l1)\n",
    "l1.clear()     #clear all element from list\n",
    "print(l1)"
   ]
  },
  {
   "cell_type": "code",
   "execution_count": 9,
   "metadata": {},
   "outputs": [
    {
     "name": "stdout",
     "output_type": "stream",
     "text": [
      "0\n",
      "1\n",
      "1\n",
      "2\n",
      "3\n",
      "5\n"
     ]
    }
   ],
   "source": [
    "#fibonacci Series\n",
    "n1=0\n",
    "n2=1\n",
    "limit=int(input(\"Enter a number:\"))\n",
    "print(n1)\n",
    "print(n2)\n",
    "count=2\n",
    "while count<limit:\n",
    "    n3=n1+n2\n",
    "    n1=n2\n",
    "    n2=n3\n",
    "    print(n3)\n",
    "    count+=1"
   ]
  },
  {
   "cell_type": "code",
   "execution_count": null,
   "metadata": {},
   "outputs": [],
   "source": []
  }
 ],
 "metadata": {
  "kernelspec": {
   "display_name": "Python 3.10.4 64-bit",
   "language": "python",
   "name": "python3"
  },
  "language_info": {
   "codemirror_mode": {
    "name": "ipython",
    "version": 3
   },
   "file_extension": ".py",
   "mimetype": "text/x-python",
   "name": "python",
   "nbconvert_exporter": "python",
   "pygments_lexer": "ipython3",
   "version": "3.10.4"
  },
  "orig_nbformat": 4,
  "vscode": {
   "interpreter": {
    "hash": "369f2c481f4da34e4445cda3fffd2e751bd1c4d706f27375911949ba6bb62e1c"
   }
  }
 },
 "nbformat": 4,
 "nbformat_minor": 2
}
