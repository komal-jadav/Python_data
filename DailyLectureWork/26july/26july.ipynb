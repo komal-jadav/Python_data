{
 "cells": [
  {
   "cell_type": "code",
   "execution_count": 2,
   "metadata": {},
   "outputs": [
    {
     "name": "stdout",
     "output_type": "stream",
     "text": [
      "10\n",
      "20\n"
     ]
    }
   ],
   "source": [
    "#class Example \n",
    "class Sample:\n",
    "    num1=10\n",
    "    num2=20\n",
    "\n",
    "obj=Sample()\n",
    "print(obj.num1)\n",
    "print(obj.num2)"
   ]
  },
  {
   "cell_type": "code",
   "execution_count": 3,
   "metadata": {},
   "outputs": [
    {
     "name": "stdout",
     "output_type": "stream",
     "text": [
      "hello\n",
      "fname= Komal\n",
      "lname= Dhvl\n"
     ]
    }
   ],
   "source": [
    "#self : which is represent current class properties\n",
    "\n",
    "class Student:\n",
    "    def display(self,fname,lname):\n",
    "        print(\"hello\")\n",
    "        print(\"fname=\",fname)\n",
    "        print(\"lname=\",lname)\n",
    "\n",
    "obj = Student()\n",
    "obj.display(\"Komal\",\"Dhvl\")"
   ]
  },
  {
   "cell_type": "code",
   "execution_count": 4,
   "metadata": {},
   "outputs": [
    {
     "name": "stdout",
     "output_type": "stream",
     "text": [
      "Factorial: 120\n"
     ]
    }
   ],
   "source": [
    "#Find Factorial\n",
    "class Practical:\n",
    "    def findFactorial(self,num):\n",
    "        f=1\n",
    "        for i in range(1,num+1):\n",
    "            f*=i\n",
    "        print(\"Factorial:\",f)\n",
    "obj =Practical()\n",
    "num=int(input(\"Enter one number:\"))\n",
    "obj.findFactorial(num)"
   ]
  },
  {
   "cell_type": "code",
   "execution_count": 5,
   "metadata": {},
   "outputs": [
    {
     "name": "stdout",
     "output_type": "stream",
     "text": [
      "name= Komal\n",
      "Subject= Pyhton\n"
     ]
    }
   ],
   "source": [
    "# Encapsulation Example\n",
    "#using set and get method\n",
    "\n",
    "class Student:\n",
    "    def setName(self,name):\n",
    "        self.name=name\n",
    "    def getName(self):\n",
    "        return self.name\n",
    "    \n",
    "    def setSubject(self,Subject):\n",
    "        self.Subject=Subject\n",
    "    def getSubject(self):\n",
    "        return self.Subject\n",
    "    \n",
    "obj = Student()\n",
    "obj.setName(\"Komal\")\n",
    "obj.setSubject(\"Pyhton\")\n",
    "\n",
    "print(\"Name=\",obj.getName())\n",
    "print(\"Subject=\",obj.getSubject())\n",
    "    "
   ]
  },
  {
   "cell_type": "code",
   "execution_count": null,
   "metadata": {},
   "outputs": [],
   "source": []
  }
 ],
 "metadata": {
  "kernelspec": {
   "display_name": "Python 3.10.4 64-bit",
   "language": "python",
   "name": "python3"
  },
  "language_info": {
   "codemirror_mode": {
    "name": "ipython",
    "version": 3
   },
   "file_extension": ".py",
   "mimetype": "text/x-python",
   "name": "python",
   "nbconvert_exporter": "python",
   "pygments_lexer": "ipython3",
   "version": "3.10.4"
  },
  "orig_nbformat": 4,
  "vscode": {
   "interpreter": {
    "hash": "369f2c481f4da34e4445cda3fffd2e751bd1c4d706f27375911949ba6bb62e1c"
   }
  }
 },
 "nbformat": 4,
 "nbformat_minor": 2
}
