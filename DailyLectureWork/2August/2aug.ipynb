{
 "cells": [
  {
   "cell_type": "markdown",
   "metadata": {},
   "source": [
    "encapsulation: which is contain data member and member function in single entity\n",
    "\n",
    "we can also provide access modifiers in class memnbers\n",
    "\n",
    "1)private: data member and member function access by own class only\n",
    "2)public: data member and member function can access by anyone\n",
    "3)protected:data member and member fuction can access by own class and child class\n",
    "\n",
    "by default all members in class which are public\n",
    "\n",
    "if we want to specify class member to private mode need to denoted with __in prefix\n",
    "\n",
    "if we want to specify class member to protected mode need to denoted with _in prefix\n",
    "\n",
    "\n",
    "\n"
   ]
  }
 ],
 "metadata": {
  "kernelspec": {
   "display_name": "Python 3.10.4 64-bit",
   "language": "python",
   "name": "python3"
  },
  "language_info": {
   "codemirror_mode": {
    "name": "ipython",
    "version": 3
   },
   "file_extension": ".py",
   "mimetype": "text/x-python",
   "name": "python",
   "nbconvert_exporter": "python",
   "pygments_lexer": "ipython3",
   "version": "3.10.4"
  },
  "orig_nbformat": 4,
  "vscode": {
   "interpreter": {
    "hash": "369f2c481f4da34e4445cda3fffd2e751bd1c4d706f27375911949ba6bb62e1c"
   }
  }
 },
 "nbformat": 4,
 "nbformat_minor": 2
}
