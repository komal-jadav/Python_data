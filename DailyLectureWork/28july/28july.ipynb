{
 "cells": [
  {
   "cell_type": "markdown",
   "id": "ec559a95",
   "metadata": {},
   "source": [
    "__init__.py: which is contain in any blank folder\n",
    "    if any blank folder contain this blank__init__.py file it consider as a package\n",
    "    \n",
    "__init__():constructor:\n",
    "        which call automatically when objec of class create\n"
   ]
  },
  {
   "cell_type": "code",
   "execution_count": 2,
   "id": "c6f55cbb",
   "metadata": {
    "scrolled": true
   },
   "outputs": [
    {
     "name": "stdout",
     "output_type": "stream",
     "text": [
      "Hello welcome to electostore\n"
     ]
    }
   ],
   "source": [
    "class ElectoStore:\n",
    "    def __init__(self):\n",
    "        print(\"Hello welcome to electostore\")\n",
    "obj=ElectoStore()"
   ]
  },
  {
   "cell_type": "markdown",
   "id": "b5a6079c",
   "metadata": {},
   "source": [
    "Accebility\n",
    "\n",
    "Access specifiers\n",
    "\n",
    "Modifiers\n",
    "\n",
    "by default all class data members and member functions are public\n",
    "\n",
    "if we want to make data member private we need denote with __ or _in prefix"
   ]
  },
  {
   "cell_type": "code",
   "execution_count": 1,
   "id": "b96d67b2",
   "metadata": {},
   "outputs": [
    {
     "name": "stdout",
     "output_type": "stream",
     "text": [
      "Mobile=  4500\n",
      "laptop=  45000\n",
      "Mobile=  7850\n",
      "laptop=  45000\n"
     ]
    }
   ],
   "source": [
    "#make data member private\n",
    "class MobileStore:\n",
    "    def __init__(self):\n",
    "        self.mobile=4500\n",
    "        self.__laptop=45000\n",
    "    def display(self):\n",
    "        print(\"Mobile= \",self.mobile)\n",
    "        print(\"laptop= \",self.__laptop)\n",
    "obj=MobileStore()\n",
    "obj.display()\n",
    "\n",
    "obj.mobile=7850\n",
    "obj.__laptop=50000 #__laptop is private so its value cant change\n",
    "\n",
    "obj.display()"
   ]
  },
  {
   "cell_type": "code",
   "execution_count": 2,
   "id": "94f83f67",
   "metadata": {},
   "outputs": [
    {
     "name": "stdout",
     "output_type": "stream",
     "text": [
      "Mobile=  4500\n",
      "laptop=  45000\n",
      "Mobile=  7850\n",
      "laptop=  45000\n",
      "___CHANGE__PRICE\n",
      "Mobile=  7850\n",
      "laptop=  75000\n"
     ]
    }
   ],
   "source": [
    "#change value of private data member\n",
    "class MobileStore:\n",
    "    def __init__(self):\n",
    "        self.mobile=4500\n",
    "        self.__laptop=45000\n",
    "    def display(self):\n",
    "        print(\"Mobile= \",self.mobile)\n",
    "        print(\"laptop= \",self.__laptop)\n",
    "    def changePrice(self,newprice):\n",
    "        self.__laptop=newprice\n",
    "obj=MobileStore()\n",
    "obj.display()\n",
    "\n",
    "obj.mobile=7850\n",
    "obj.__laptop=50000 #__laptop is private so its value cant change\n",
    "\n",
    "obj.display()\n",
    "\n",
    "print(\"___CHANGE__PRICE\")\n",
    "obj.changePrice(75000)\n",
    "\n",
    "obj.display()"
   ]
  },
  {
   "cell_type": "code",
   "execution_count": 5,
   "id": "c4a0d88f",
   "metadata": {},
   "outputs": [
    {
     "name": "stdout",
     "output_type": "stream",
     "text": [
      "hello this is PARENT class\n",
      "hello this is CHILD class\n"
     ]
    }
   ],
   "source": [
    "# Inheritance\n",
    "\n",
    "class parent:\n",
    "    def display(self):\n",
    "        print(\"hello this is PARENT class\")\n",
    "class child(parent):\n",
    "    def child_display(self):\n",
    "        print(\"hello this is CHILD class\")\n",
    "obj =child()\n",
    "obj.display()\n",
    "obj.child_display()\n"
   ]
  },
  {
   "cell_type": "code",
   "execution_count": 6,
   "id": "20b7a763",
   "metadata": {},
   "outputs": [
    {
     "name": "stdout",
     "output_type": "stream",
     "text": [
      "A class display\n",
      "B class display\n",
      "C class display\n"
     ]
    }
   ],
   "source": [
    "#multilevel inheritance\n",
    "\n",
    "class A:\n",
    "    def displayA(self):\n",
    "        print(\"A class display\")\n",
    "class B(A):\n",
    "    def displayB(self):\n",
    "        print(\"B class display\")\n",
    "class C(B):\n",
    "    def displayC(self):\n",
    "        print(\"C class display\")\n",
    "obj =C()\n",
    "obj.displayA()          \n",
    "obj.displayB()\n",
    "obj.displayC()"
   ]
  },
  {
   "cell_type": "code",
   "execution_count": 8,
   "id": "fcd40af6",
   "metadata": {},
   "outputs": [
    {
     "name": "stdout",
     "output_type": "stream",
     "text": [
      "A class display\n",
      "B class display\n",
      "C class display\n"
     ]
    }
   ],
   "source": [
    "#Multiple inheritance\n",
    "\n",
    "class A:\n",
    "    def displayA(self):\n",
    "        print(\"A class display\")\n",
    "class B(A):\n",
    "    def displayB(self):\n",
    "        print(\"B class display\")\n",
    "class C(A):\n",
    "    def displayC(self):\n",
    "        print(\"C class display\")\n",
    "obj =B()\n",
    "obj.displayA()\n",
    "obj.displayB()\n",
    "obj=C()\n",
    "obj.displayC()"
   ]
  },
  {
   "cell_type": "code",
   "execution_count": null,
   "id": "d20838a7",
   "metadata": {},
   "outputs": [],
   "source": []
  }
 ],
 "metadata": {
  "kernelspec": {
   "display_name": "Python 3.10.4 64-bit",
   "language": "python",
   "name": "python3"
  },
  "language_info": {
   "codemirror_mode": {
    "name": "ipython",
    "version": 3
   },
   "file_extension": ".py",
   "mimetype": "text/x-python",
   "name": "python",
   "nbconvert_exporter": "python",
   "pygments_lexer": "ipython3",
   "version": "3.10.4"
  },
  "vscode": {
   "interpreter": {
    "hash": "369f2c481f4da34e4445cda3fffd2e751bd1c4d706f27375911949ba6bb62e1c"
   }
  }
 },
 "nbformat": 4,
 "nbformat_minor": 5
}
