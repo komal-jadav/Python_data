{
 "cells": [
  {
   "cell_type": "markdown",
   "metadata": {},
   "source": [
    "                                User\n",
    "----------------------------------------------------------------------------\n",
    "\n",
    "                                email\n",
    "                                password\n",
    "\n",
    "Doctor                                                              Patient\n",
    "\n",
    "user                                                                user\n",
    "specification                                                       bloodgroup"
   ]
  },
  {
   "cell_type": "code",
   "execution_count": 3,
   "metadata": {},
   "outputs": [
    {
     "name": "stdout",
     "output_type": "stream",
     "text": [
      "\n",
      "                                menu\n",
      "                            1 press for doctor\n",
      "                            2 press for patient\n",
      "                \n",
      "                \n",
      "User Class\n",
      "Patient Email=  k@gmail.com\n",
      "Patient Password=  123\n",
      "Patient Bloodgroup=  b+\n"
     ]
    }
   ],
   "source": [
    "#hierarchical inheritance:\n",
    "class User:\n",
    "    def __init__(self):\n",
    "        print(\"User Class\")\n",
    "        \n",
    "   \n",
    "    def input(self):\n",
    "\n",
    "        \n",
    "        self.email=input(\"Enter email:\")\n",
    "        self.password=input(\"Enter password:\")\n",
    "        \n",
    "    \n",
    "class Doctor(User):\n",
    "    def doc_input(self):\n",
    "        self.specification=input(\"Enter specification:\")\n",
    "            \n",
    "    def display(self):\n",
    "        print(\"Doctor Email= \",self.email)\n",
    "        print(\"Doctor= \",self.password)\n",
    "        print(\"Doctor= \",self.specification)\n",
    "\n",
    "\n",
    "class Patient(User):\n",
    "    def patient_input(self):\n",
    "        self.bloodgroup=input(\"Enter bloodgroup:\")\n",
    "    \n",
    "    def displayp(self):\n",
    "        print(\"Patient Email= \",self.email)\n",
    "        print(\"Patient Password= \",self.password)\n",
    "        print(\"Patient Bloodgroup= \",self.bloodgroup)\n",
    "print(\"\"\"\n",
    "                                menu\n",
    "                            1 press for doctor\n",
    "                            2 press for patient\n",
    "                \n",
    "                \"\"\")\n",
    "c1=int(input(\"Enter ur choice:\"))\n",
    "\n",
    "if c1==1:\n",
    "    doctor_obj=Doctor() \n",
    "    doctor_obj.input()\n",
    "    doctor_obj.doc_input()\n",
    "    doctor_obj.display()\n",
    "else:\n",
    "    patient_obj=Patient()\n",
    "    patient_obj.input()\n",
    "    patient_obj.patient_input()\n",
    "    patient_obj.displayp()\n"
   ]
  },
  {
   "cell_type": "code",
   "execution_count": 4,
   "metadata": {},
   "outputs": [
    {
     "name": "stdout",
     "output_type": "stream",
     "text": [
      "WELCOME TO IDEA:\n",
      "WELCOME TO VODAFONE:\n",
      "WELCOME TO VI -2022\n"
     ]
    }
   ],
   "source": [
    "#Multiple Inheritance\n",
    "\n",
    "class Idea:\n",
    "    def idea_display(self):\n",
    "        print(\"WELCOME TO IDEA:\")\n",
    "    \n",
    "class Vodafone:\n",
    "    def vodafone_display(self):\n",
    "        print(\"WELCOME TO VODAFONE:\")\n",
    "\n",
    "class VI(Idea,Vodafone):\n",
    "    def Display(self):\n",
    "        self.idea_display()\n",
    "        self.vodafone_display()\n",
    "        print(\"WELCOME TO VI -2022\")\n",
    "vi=VI()\n",
    "vi.Display()"
   ]
  },
  {
   "cell_type": "code",
   "execution_count": 5,
   "metadata": {},
   "outputs": [
    {
     "name": "stdout",
     "output_type": "stream",
     "text": [
      "A class display\n",
      "B class display\n",
      "C class display\n"
     ]
    }
   ],
   "source": [
    "#multilevel  inheritance\n",
    "\n",
    "class A:\n",
    "    def displayA(self):\n",
    "        print(\"A class display\")\n",
    "class B(A):\n",
    "    def displayB(self):\n",
    "        print(\"B class display\")\n",
    "class C(B):\n",
    "    def displayC(self):\n",
    "        print(\"C class display\")\n",
    "obj =C()\n",
    "obj.displayA()\n",
    "obj.displayB()\n",
    "obj.displayC()"
   ]
  },
  {
   "cell_type": "code",
   "execution_count": 7,
   "metadata": {},
   "outputs": [
    {
     "name": "stdout",
     "output_type": "stream",
     "text": [
      "This function is in class A.\n",
      "This function is in class B. \n",
      "This function is in class D.\n",
      "This function is in class A.\n",
      "This function is in class C.\n"
     ]
    }
   ],
   "source": [
    "#hybrid inheritance\n",
    "\n",
    "class A:\n",
    "    def func1(self):\n",
    "        print(\"This function is in class A.\")\n",
    " \n",
    " \n",
    "class B(A):\n",
    "    def func2(self):\n",
    "        print(\"This function is in class B. \")\n",
    " \n",
    " \n",
    "class C(A):\n",
    "    def func3(self):\n",
    "        self.func1()\n",
    "        print(\"This function is in class C.\")\n",
    " \n",
    " \n",
    "class D(B):\n",
    "    def func4(self):\n",
    "        self.func1()\n",
    "        self.func2()\n",
    "        print(\"This function is in class D.\")\n",
    " \n",
    " \n",
    "# Driver's code\n",
    "object = D()\n",
    "object.func4()\n",
    "objectC=C()\n",
    "objectC.func3()\n",
    "\n"
   ]
  },
  {
   "cell_type": "code",
   "execution_count": null,
   "metadata": {},
   "outputs": [],
   "source": []
  }
 ],
 "metadata": {
  "kernelspec": {
   "display_name": "Python 3.10.4 64-bit",
   "language": "python",
   "name": "python3"
  },
  "language_info": {
   "codemirror_mode": {
    "name": "ipython",
    "version": 3
   },
   "file_extension": ".py",
   "mimetype": "text/x-python",
   "name": "python",
   "nbconvert_exporter": "python",
   "pygments_lexer": "ipython3",
   "version": "3.10.4"
  },
  "orig_nbformat": 4,
  "vscode": {
   "interpreter": {
    "hash": "369f2c481f4da34e4445cda3fffd2e751bd1c4d706f27375911949ba6bb62e1c"
   }
  }
 },
 "nbformat": 4,
 "nbformat_minor": 2
}
