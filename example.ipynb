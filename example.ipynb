{
 "cells": [
  {
   "cell_type": "code",
   "execution_count": null,
   "metadata": {},
   "outputs": [],
   "source": [
    "Status=True\n",
    "subject={}\n",
    "while Status:\n",
    "    s1= input(\"enter subject name :\")\n",
    "    f1=int(input(\"ENter fee :\"))\n",
    "    subject['sub']=s1\n",
    "    subject['fee']=f1\n",
    "    print(subject)\n",
    "    l1=list(subject)\n",
    "    print(l1)\n",
    "    \n",
    "    c1=input(\"press y for yes n for no \")\n",
    "    if c1=='n':\n",
    "        Status =False\n",
    "        d1=dict(l1)\n",
    "        print(d1)\n",
    "    else:\n",
    "        Status=True\n",
    "        "
   ]
  },
  {
   "cell_type": "code",
   "execution_count": null,
   "metadata": {},
   "outputs": [],
   "source": []
  },
  {
   "cell_type": "code",
   "execution_count": null,
   "metadata": {},
   "outputs": [],
   "source": []
  }
 ],
 "metadata": {
  "kernelspec": {
   "display_name": "Python 3.10.4 64-bit",
   "language": "python",
   "name": "python3"
  },
  "language_info": {
   "codemirror_mode": {
    "name": "ipython",
    "version": 3
   },
   "file_extension": ".py",
   "mimetype": "text/x-python",
   "name": "python",
   "nbconvert_exporter": "python",
   "pygments_lexer": "ipython3",
   "version": "3.10.4"
  },
  "orig_nbformat": 4,
  "vscode": {
   "interpreter": {
    "hash": "369f2c481f4da34e4445cda3fffd2e751bd1c4d706f27375911949ba6bb62e1c"
   }
  }
 },
 "nbformat": 4,
 "nbformat_minor": 2
}
